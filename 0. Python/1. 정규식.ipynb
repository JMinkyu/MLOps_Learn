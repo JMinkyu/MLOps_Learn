{
 "cells": [
  {
   "cell_type": "code",
   "execution_count": 2,
   "metadata": {},
   "outputs": [],
   "source": [
    "import re"
   ]
  },
  {
   "cell_type": "markdown",
   "metadata": {},
   "source": [
    "# 정규식의 원리\n",
    "- source로 부터 입력한 pattern에 해당하는 문자열을 처리"
   ]
  },
  {
   "cell_type": "code",
   "execution_count": 3,
   "metadata": {},
   "outputs": [
    {
     "name": "stdout",
     "output_type": "stream",
     "text": [
      "None\n"
     ]
    }
   ],
   "source": [
    "# 검사 대상 문자열 : Source\n",
    "source = \"I can do it! You can do it!\"\n",
    "\n",
    "# 검사할 패턴 : 정규식\n",
    "pattern = \"You\"\n",
    "\n",
    "# partern에 맞는 문자열로 시작하는가?\n",
    "m = re.match(pattern, source)\n",
    "print(m)"
   ]
  },
  {
   "cell_type": "code",
   "execution_count": 5,
   "metadata": {},
   "outputs": [
    {
     "name": "stdout",
     "output_type": "stream",
     "text": [
      "<re.Match object; span=(0, 5), match='I can'>\n"
     ]
    }
   ],
   "source": [
    "# 검사 대상 문자열 : Source\n",
    "source = \"I can do it! You can do it!\"\n",
    "\n",
    "# 검사할 패턴 : 정규식\n",
    "pattern = \"I can\"\n",
    "\n",
    "# partern에 맞는 문자열로 시작하는가?\n",
    "m = re.match(pattern, source)\n",
    "print(m)"
   ]
  },
  {
   "cell_type": "code",
   "execution_count": 6,
   "metadata": {},
   "outputs": [
    {
     "name": "stdout",
     "output_type": "stream",
     "text": [
      "<re.Match object; span=(10, 13), match='너무해'>\n"
     ]
    }
   ],
   "source": [
    "# 검사 대상 문자열 : Source\n",
    "source = \"이런 내맘 모르고 너무해 너무해\"\n",
    "\n",
    "# 검사할 패턴 : 정규식\n",
    "pattern = \"너무해\"\n",
    "\n",
    "# partern에 맞는 문자열로 시작하는가?\n",
    "m = re.search(pattern, source)\n",
    "print(m)"
   ]
  },
  {
   "cell_type": "code",
   "execution_count": null,
   "metadata": {},
   "outputs": [],
   "source": []
  }
 ],
 "metadata": {
  "kernelspec": {
   "display_name": "base",
   "language": "python",
   "name": "python3"
  },
  "language_info": {
   "codemirror_mode": {
    "name": "ipython",
    "version": 3
   },
   "file_extension": ".py",
   "mimetype": "text/x-python",
   "name": "python",
   "nbconvert_exporter": "python",
   "pygments_lexer": "ipython3",
   "version": "3.12.7"
  }
 },
 "nbformat": 4,
 "nbformat_minor": 2
}
