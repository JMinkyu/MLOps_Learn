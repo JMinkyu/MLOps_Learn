{
 "cells": [
  {
   "cell_type": "code",
   "execution_count": 1,
   "metadata": {},
   "outputs": [],
   "source": [
    "from torch.utils.data import DataLoader\n",
    "from torchvision import datasets\n",
    "from torchvision.transforms import ToTensor\n",
    "\n",
    "train_data = datasets.FashionMNIST(\n",
    "    root=\"data\", # 데이터를 저장할 root 디렉토리\n",
    "    train=True, # 훈련용 데이터 설정\n",
    "    download=True, # 다운로드\n",
    "    transform=ToTensor() # 이미지 변환. 여기서는 TorchTesnor로 변환시킵니다.\n",
    ")\n",
    "\n",
    "test_data = datasets.FashionMNIST(\n",
    "    root=\"data\",\n",
    "    train=False,\n",
    "    download=True,\n",
    "    transform=ToTensor()\n",
    ")"
   ]
  },
  {
   "cell_type": "code",
   "execution_count": 2,
   "metadata": {},
   "outputs": [],
   "source": [
    "train_dataloader = DataLoader(\n",
    "    train_data, batch_size=64, shuffle=True\n",
    ")\n",
    "\n",
    "test_dataloader = DataLoader(\n",
    "    test_data, batch_size=64, shuffle=False\n",
    ")"
   ]
  },
  {
   "cell_type": "markdown",
   "metadata": {},
   "source": [
    "# PyTorch Modeling\n",
    "파이토치는 대부분 클래스 기반 모델링을 수행합니다. `torch.nn.Module` 클래스를 상속 받아 만들게 됩니다. 필수적으로 오버라이딩 해야 하는 메소드는 생성자 `__init__`과 순전파를 담당하는 `forward` 입니다."
   ]
  },
  {
   "cell_type": "code",
   "execution_count": 9,
   "metadata": {},
   "outputs": [],
   "source": [
    "from torch import nn\n",
    "\n",
    "class NeuralNetwork(nn.Module):\n",
    "\n",
    "  def __init__(self):\n",
    "    # Subclass인 NeuralNetwork의 생성자.\n",
    "    #   여기에서 상위 클래스인 nn.Module의 생성에 대한 책임을 져야 한다.\n",
    "    #   책임이란? 부모클래스의 생성자에 필요한 파라미터\n",
    "    super(NeuralNetwork, self).__init__()\n",
    "\n",
    "    # 생성자에는 항상 레이어의 구성을 정의\n",
    "    self.flatten = nn.Flatten() # 입력되는 데이터를 평탄화 시키는 레이어\n",
    "\n",
    "    # nn.Sequential을 이용해 연속되는 레이어의 구조를 구성\n",
    "    self.fcl_stack = nn.Sequential(\n",
    "      # 1층 구성\n",
    "      nn.Linear(28*28, 128),\n",
    "      nn.ReLU(),\n",
    "\n",
    "      # 2층 (출력층)\n",
    "      nn.Linear(128, 10)\n",
    "    )\n",
    "    # Softmax를 따로 쓰지 않는 이유는 실제 모델 순전파 시에 넣어도 상관 없기 때문 ! (훈련 할 떄)\n",
    "    # 꼭 없어야 하는건 아님 !! 상황에 따라서 넣어 줄 수도 있음\n",
    "\n",
    "  def forward(self, x):\n",
    "    # forward에는 입력 데이터 x가 들어온다. 이 때 x의 shape은? (N, 1, 28, 28)\n",
    "    x = self.flatten(x) # flatten : 평탄화\n",
    "    y = self.fcl_stack(x)\n",
    "\n",
    "    return y"
   ]
  },
  {
   "cell_type": "markdown",
   "metadata": {},
   "source": [
    "# 모델 생성\n",
    "파이토치를 이용해 모델 객체를 만들고 나서 어떤 장치(device) 환경에서 훈련이나 추론을 수행할지 결정지어줘야 합니다."
   ]
  },
  {
   "cell_type": "code",
   "execution_count": 6,
   "metadata": {},
   "outputs": [
    {
     "data": {
      "text/plain": [
       "'cuda'"
      ]
     },
     "execution_count": 6,
     "metadata": {},
     "output_type": "execute_result"
    }
   ],
   "source": [
    "import torch\n",
    "device = 'cuda' if torch.cuda.is_available() else 'cpu'\n",
    "device"
   ]
  },
  {
   "cell_type": "code",
   "execution_count": 7,
   "metadata": {},
   "outputs": [],
   "source": [
    "# 모델을 만들고, 만든 모델을 설정한 환경(device)로 옮긴다는 개념"
   ]
  },
  {
   "cell_type": "code",
   "execution_count": 10,
   "metadata": {},
   "outputs": [
    {
     "name": "stdout",
     "output_type": "stream",
     "text": [
      "NeuralNetwork(\n",
      "  (flatten): Flatten(start_dim=1, end_dim=-1)\n",
      "  (fcl_stack): Sequential(\n",
      "    (0): Linear(in_features=784, out_features=128, bias=True)\n",
      "    (1): ReLU()\n",
      "    (2): Linear(in_features=128, out_features=10, bias=True)\n",
      "  )\n",
      ")\n"
     ]
    }
   ],
   "source": [
    "# 모델을 만들고, 만든 모델을 설정한 환경(device)로 옮긴다는 개념\n",
    "model = NeuralNetwork().to(device)\n",
    "print(model)"
   ]
  },
  {
   "cell_type": "code",
   "execution_count": null,
   "metadata": {},
   "outputs": [],
   "source": []
  }
 ],
 "metadata": {
  "kernelspec": {
   "display_name": "base",
   "language": "python",
   "name": "python3"
  },
  "language_info": {
   "codemirror_mode": {
    "name": "ipython",
    "version": 3
   },
   "file_extension": ".py",
   "mimetype": "text/x-python",
   "name": "python",
   "nbconvert_exporter": "python",
   "pygments_lexer": "ipython3",
   "version": "3.12.7"
  }
 },
 "nbformat": 4,
 "nbformat_minor": 2
}
