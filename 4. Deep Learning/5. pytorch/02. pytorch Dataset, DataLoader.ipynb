{
 "cells": [
  {
   "cell_type": "markdown",
   "metadata": {},
   "source": [
    "# Dataset, DataLoader\n",
    "- 데이터를 처리하여 model에 공급(fit)하기 위하여 파이토치에서 torch.utilis.data.Dataset과 torch.utils.data.DataLoader 클래스를 지원합니다.\n",
    "    - Dataset : feautre와 model을 저장\n",
    "    - DataLoader : Dataset을 모델에 공급할 수 있도록하는 클래스"
   ]
  },
  {
   "cell_type": "code",
   "execution_count": 5,
   "metadata": {},
   "outputs": [],
   "source": [
    "import torch\n",
    "\n",
    "# torchvision : 파이토치 기반의 CV 도구들이 들어있는 패키지\n",
    "# torchvision.datasets : Computer vision 관련 예제 데이터 세트\n",
    "\n",
    "from torchvision import datasets\n",
    "from torchvision.transforms import ToTensor"
   ]
  },
  {
   "cell_type": "code",
   "execution_count": null,
   "metadata": {},
   "outputs": [],
   "source": [
    "train_data = datasets.FashionMNIST(\n",
    "    root = 'data', # 데이터(이미지를) 저장할 디렉토리\n",
    "    train = True , # 훈련용 데이터인지 여부\n",
    "    download = True, \n",
    "    transform= ToTensor() # transform : 이미지 변환.\n",
    "                          # ndarray형식의 이미지를 PyTorch ToTensor로 변환\n",
    "                          \n",
    ")"
   ]
  },
  {
   "cell_type": "code",
   "execution_count": null,
   "metadata": {},
   "outputs": [],
   "source": []
  }
 ],
 "metadata": {
  "kernelspec": {
   "display_name": "base",
   "language": "python",
   "name": "python3"
  },
  "language_info": {
   "codemirror_mode": {
    "name": "ipython",
    "version": 3
   },
   "file_extension": ".py",
   "mimetype": "text/x-python",
   "name": "python",
   "nbconvert_exporter": "python",
   "pygments_lexer": "ipython3",
   "version": "3.12.7"
  }
 },
 "nbformat": 4,
 "nbformat_minor": 2
}
