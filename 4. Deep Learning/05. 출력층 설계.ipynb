{
 "cells": [
  {
   "cell_type": "code",
   "execution_count": 9,
   "metadata": {},
   "outputs": [
    {
     "name": "stdout",
     "output_type": "stream",
     "text": [
      "Collecting tensorflow\n",
      "  Downloading tensorflow-2.19.0-cp312-cp312-win_amd64.whl.metadata (4.1 kB)\n",
      "Collecting absl-py>=1.0.0 (from tensorflow)\n",
      "  Downloading absl_py-2.2.0-py3-none-any.whl.metadata (2.4 kB)\n",
      "Collecting astunparse>=1.6.0 (from tensorflow)\n",
      "  Downloading astunparse-1.6.3-py2.py3-none-any.whl.metadata (4.4 kB)\n",
      "Collecting flatbuffers>=24.3.25 (from tensorflow)\n",
      "  Downloading flatbuffers-25.2.10-py2.py3-none-any.whl.metadata (875 bytes)\n",
      "Collecting gast!=0.5.0,!=0.5.1,!=0.5.2,>=0.2.1 (from tensorflow)\n",
      "  Downloading gast-0.6.0-py3-none-any.whl.metadata (1.3 kB)\n",
      "Collecting google-pasta>=0.1.1 (from tensorflow)\n",
      "  Downloading google_pasta-0.2.0-py3-none-any.whl.metadata (814 bytes)\n",
      "Collecting libclang>=13.0.0 (from tensorflow)\n",
      "  Downloading libclang-18.1.1-py2.py3-none-win_amd64.whl.metadata (5.3 kB)\n",
      "Collecting opt-einsum>=2.3.2 (from tensorflow)\n",
      "  Downloading opt_einsum-3.4.0-py3-none-any.whl.metadata (6.3 kB)\n",
      "Requirement already satisfied: packaging in c:\\users\\user\\anaconda3\\lib\\site-packages (from tensorflow) (24.1)\n",
      "Requirement already satisfied: protobuf!=4.21.0,!=4.21.1,!=4.21.2,!=4.21.3,!=4.21.4,!=4.21.5,<6.0.0dev,>=3.20.3 in c:\\users\\user\\anaconda3\\lib\\site-packages (from tensorflow) (4.25.3)\n",
      "Requirement already satisfied: requests<3,>=2.21.0 in c:\\users\\user\\anaconda3\\lib\\site-packages (from tensorflow) (2.32.3)\n",
      "Requirement already satisfied: setuptools in c:\\users\\user\\anaconda3\\lib\\site-packages (from tensorflow) (75.8.2)\n",
      "Requirement already satisfied: six>=1.12.0 in c:\\users\\user\\anaconda3\\lib\\site-packages (from tensorflow) (1.16.0)\n",
      "Collecting termcolor>=1.1.0 (from tensorflow)\n",
      "  Downloading termcolor-2.5.0-py3-none-any.whl.metadata (6.1 kB)\n",
      "Requirement already satisfied: typing-extensions>=3.6.6 in c:\\users\\user\\anaconda3\\lib\\site-packages (from tensorflow) (4.11.0)\n",
      "Requirement already satisfied: wrapt>=1.11.0 in c:\\users\\user\\anaconda3\\lib\\site-packages (from tensorflow) (1.14.1)\n",
      "Collecting grpcio<2.0,>=1.24.3 (from tensorflow)\n",
      "  Downloading grpcio-1.71.0-cp312-cp312-win_amd64.whl.metadata (4.0 kB)\n",
      "Collecting tensorboard~=2.19.0 (from tensorflow)\n",
      "  Downloading tensorboard-2.19.0-py3-none-any.whl.metadata (1.8 kB)\n",
      "Collecting keras>=3.5.0 (from tensorflow)\n",
      "  Downloading keras-3.9.0-py3-none-any.whl.metadata (6.1 kB)\n",
      "Requirement already satisfied: numpy<2.2.0,>=1.26.0 in c:\\users\\user\\anaconda3\\lib\\site-packages (from tensorflow) (1.26.4)\n",
      "Requirement already satisfied: h5py>=3.11.0 in c:\\users\\user\\anaconda3\\lib\\site-packages (from tensorflow) (3.11.0)\n",
      "Collecting ml-dtypes<1.0.0,>=0.5.1 (from tensorflow)\n",
      "  Downloading ml_dtypes-0.5.1-cp312-cp312-win_amd64.whl.metadata (22 kB)\n",
      "Requirement already satisfied: wheel<1.0,>=0.23.0 in c:\\users\\user\\anaconda3\\lib\\site-packages (from astunparse>=1.6.0->tensorflow) (0.45.1)\n",
      "Requirement already satisfied: rich in c:\\users\\user\\anaconda3\\lib\\site-packages (from keras>=3.5.0->tensorflow) (13.7.1)\n",
      "Collecting namex (from keras>=3.5.0->tensorflow)\n",
      "  Downloading namex-0.0.8-py3-none-any.whl.metadata (246 bytes)\n",
      "Collecting optree (from keras>=3.5.0->tensorflow)\n",
      "  Downloading optree-0.14.1-cp312-cp312-win_amd64.whl.metadata (50 kB)\n",
      "Requirement already satisfied: charset-normalizer<4,>=2 in c:\\users\\user\\anaconda3\\lib\\site-packages (from requests<3,>=2.21.0->tensorflow) (3.3.2)\n",
      "Requirement already satisfied: idna<4,>=2.5 in c:\\users\\user\\anaconda3\\lib\\site-packages (from requests<3,>=2.21.0->tensorflow) (3.7)\n",
      "Requirement already satisfied: urllib3<3,>=1.21.1 in c:\\users\\user\\anaconda3\\lib\\site-packages (from requests<3,>=2.21.0->tensorflow) (2.2.3)\n",
      "Requirement already satisfied: certifi>=2017.4.17 in c:\\users\\user\\anaconda3\\lib\\site-packages (from requests<3,>=2.21.0->tensorflow) (2025.1.31)\n",
      "Requirement already satisfied: markdown>=2.6.8 in c:\\users\\user\\anaconda3\\lib\\site-packages (from tensorboard~=2.19.0->tensorflow) (3.4.1)\n",
      "Collecting tensorboard-data-server<0.8.0,>=0.7.0 (from tensorboard~=2.19.0->tensorflow)\n",
      "  Downloading tensorboard_data_server-0.7.2-py3-none-any.whl.metadata (1.1 kB)\n",
      "Requirement already satisfied: werkzeug>=1.0.1 in c:\\users\\user\\anaconda3\\lib\\site-packages (from tensorboard~=2.19.0->tensorflow) (3.0.3)\n",
      "Requirement already satisfied: MarkupSafe>=2.1.1 in c:\\users\\user\\anaconda3\\lib\\site-packages (from werkzeug>=1.0.1->tensorboard~=2.19.0->tensorflow) (2.1.3)\n",
      "Requirement already satisfied: markdown-it-py>=2.2.0 in c:\\users\\user\\anaconda3\\lib\\site-packages (from rich->keras>=3.5.0->tensorflow) (2.2.0)\n",
      "Requirement already satisfied: pygments<3.0.0,>=2.13.0 in c:\\users\\user\\anaconda3\\lib\\site-packages (from rich->keras>=3.5.0->tensorflow) (2.15.1)\n",
      "Requirement already satisfied: mdurl~=0.1 in c:\\users\\user\\anaconda3\\lib\\site-packages (from markdown-it-py>=2.2.0->rich->keras>=3.5.0->tensorflow) (0.1.0)\n",
      "Downloading tensorflow-2.19.0-cp312-cp312-win_amd64.whl (376.0 MB)\n",
      "   ---------------------------------------- 0.0/376.0 MB ? eta -:--:--\n",
      "   ---------------------------------------- 3.4/376.0 MB 16.7 MB/s eta 0:00:23\n",
      "    --------------------------------------- 6.8/376.0 MB 16.1 MB/s eta 0:00:23\n",
      "   - -------------------------------------- 9.7/376.0 MB 15.9 MB/s eta 0:00:24\n",
      "   - -------------------------------------- 13.6/376.0 MB 16.1 MB/s eta 0:00:23\n",
      "   - -------------------------------------- 17.0/376.0 MB 16.3 MB/s eta 0:00:23\n",
      "   -- ------------------------------------- 21.0/376.0 MB 16.8 MB/s eta 0:00:22\n",
      "   -- ------------------------------------- 24.9/376.0 MB 17.0 MB/s eta 0:00:21\n",
      "   --- ------------------------------------ 28.8/376.0 MB 17.2 MB/s eta 0:00:21\n",
      "   --- ------------------------------------ 32.8/376.0 MB 17.3 MB/s eta 0:00:20\n",
      "   --- ------------------------------------ 35.7/376.0 MB 17.4 MB/s eta 0:00:20\n",
      "   --- ------------------------------------ 37.0/376.0 MB 16.2 MB/s eta 0:00:21\n",
      "   ---- ----------------------------------- 38.3/376.0 MB 15.2 MB/s eta 0:00:23\n",
      "   ---- ----------------------------------- 38.8/376.0 MB 14.6 MB/s eta 0:00:24\n",
      "   ---- ----------------------------------- 39.3/376.0 MB 13.8 MB/s eta 0:00:25\n",
      "   ---- ----------------------------------- 39.8/376.0 MB 12.7 MB/s eta 0:00:27\n",
      "   ---- ----------------------------------- 40.1/376.0 MB 12.2 MB/s eta 0:00:28\n",
      "   ---- ----------------------------------- 40.6/376.0 MB 11.5 MB/s eta 0:00:30\n",
      "   ---- ----------------------------------- 40.9/376.0 MB 10.8 MB/s eta 0:00:31\n",
      "   ---- ----------------------------------- 41.2/376.0 MB 10.3 MB/s eta 0:00:33\n",
      "   ---- ----------------------------------- 41.2/376.0 MB 10.3 MB/s eta 0:00:33\n",
      "   ---- ----------------------------------- 41.4/376.0 MB 9.6 MB/s eta 0:00:35\n",
      "   ---- ----------------------------------- 41.4/376.0 MB 9.6 MB/s eta 0:00:35\n",
      "   ---- ----------------------------------- 41.4/376.0 MB 9.6 MB/s eta 0:00:35\n",
      "   ---- ----------------------------------- 41.7/376.0 MB 8.5 MB/s eta 0:00:40\n",
      "   ---- ----------------------------------- 42.5/376.0 MB 8.1 MB/s eta 0:00:42\n",
      "   ---- ----------------------------------- 45.9/376.0 MB 8.4 MB/s eta 0:00:40\n",
      "   ----- ---------------------------------- 48.5/376.0 MB 8.6 MB/s eta 0:00:39\n",
      "   ----- ---------------------------------- 49.8/376.0 MB 8.4 MB/s eta 0:00:39\n",
      "   ----- ---------------------------------- 50.3/376.0 MB 8.4 MB/s eta 0:00:39\n",
      "   ----- ---------------------------------- 50.6/376.0 MB 8.2 MB/s eta 0:00:40\n",
      "   ----- ---------------------------------- 52.2/376.0 MB 8.0 MB/s eta 0:00:41\n",
      "   ----- ---------------------------------- 55.1/376.0 MB 8.2 MB/s eta 0:00:40\n",
      "   ------ --------------------------------- 58.5/376.0 MB 8.4 MB/s eta 0:00:38\n",
      "   ------ --------------------------------- 59.5/376.0 MB 8.4 MB/s eta 0:00:38\n",
      "   ------ --------------------------------- 61.1/376.0 MB 8.3 MB/s eta 0:00:39\n",
      "   ------ --------------------------------- 64.0/376.0 MB 8.4 MB/s eta 0:00:38\n",
      "   ------- -------------------------------- 66.1/376.0 MB 8.5 MB/s eta 0:00:37\n",
      "   ------- -------------------------------- 68.9/376.0 MB 8.6 MB/s eta 0:00:36\n",
      "   ------- -------------------------------- 71.6/376.0 MB 8.7 MB/s eta 0:00:35\n",
      "   ------- -------------------------------- 72.4/376.0 MB 8.6 MB/s eta 0:00:36\n",
      "   ------- -------------------------------- 73.9/376.0 MB 8.6 MB/s eta 0:00:36\n",
      "   -------- ------------------------------- 75.8/376.0 MB 8.6 MB/s eta 0:00:36\n",
      "   -------- ------------------------------- 78.6/376.0 MB 8.7 MB/s eta 0:00:35\n",
      "   -------- ------------------------------- 80.7/376.0 MB 8.7 MB/s eta 0:00:34\n",
      "   -------- ------------------------------- 82.6/376.0 MB 8.7 MB/s eta 0:00:34\n",
      "   --------- ------------------------------ 86.0/376.0 MB 8.9 MB/s eta 0:00:33\n",
      "   --------- ------------------------------ 89.1/376.0 MB 9.0 MB/s eta 0:00:32\n",
      "   --------- ------------------------------ 91.8/376.0 MB 9.1 MB/s eta 0:00:32\n",
      "   ---------- ----------------------------- 94.1/376.0 MB 9.1 MB/s eta 0:00:31\n",
      "   ---------- ----------------------------- 97.0/376.0 MB 9.2 MB/s eta 0:00:31\n",
      "   ---------- ----------------------------- 98.6/376.0 MB 9.2 MB/s eta 0:00:31\n",
      "   ---------- ----------------------------- 100.7/376.0 MB 9.2 MB/s eta 0:00:30\n",
      "   ---------- ----------------------------- 102.8/376.0 MB 9.2 MB/s eta 0:00:30\n",
      "   ----------- ---------------------------- 105.9/376.0 MB 9.3 MB/s eta 0:00:29\n",
      "   ----------- ---------------------------- 107.7/376.0 MB 9.3 MB/s eta 0:00:29\n",
      "   ----------- ---------------------------- 108.5/376.0 MB 9.3 MB/s eta 0:00:29\n",
      "   ----------- ---------------------------- 109.6/376.0 MB 9.1 MB/s eta 0:00:30\n",
      "   ----------- ---------------------------- 109.8/376.0 MB 9.0 MB/s eta 0:00:30\n",
      "   ------------ --------------------------- 113.2/376.0 MB 9.1 MB/s eta 0:00:29\n",
      "   ------------ --------------------------- 114.0/376.0 MB 9.0 MB/s eta 0:00:29\n",
      "   ------------ --------------------------- 116.9/376.0 MB 9.1 MB/s eta 0:00:29\n",
      "   ------------ --------------------------- 119.0/376.0 MB 9.1 MB/s eta 0:00:29\n",
      "   ------------ --------------------------- 119.3/376.0 MB 9.1 MB/s eta 0:00:29\n",
      "   ------------ --------------------------- 121.9/376.0 MB 9.0 MB/s eta 0:00:29\n",
      "   ------------- -------------------------- 125.0/376.0 MB 9.1 MB/s eta 0:00:28\n",
      "   ------------- -------------------------- 128.7/376.0 MB 9.3 MB/s eta 0:00:27\n",
      "   -------------- ------------------------- 132.4/376.0 MB 9.4 MB/s eta 0:00:26\n",
      "   -------------- ------------------------- 135.5/376.0 MB 9.5 MB/s eta 0:00:26\n",
      "   -------------- ------------------------- 138.4/376.0 MB 9.5 MB/s eta 0:00:25\n",
      "   --------------- ------------------------ 142.1/376.0 MB 9.6 MB/s eta 0:00:25\n",
      "   --------------- ------------------------ 146.0/376.0 MB 9.8 MB/s eta 0:00:24\n",
      "   --------------- ------------------------ 149.9/376.0 MB 9.9 MB/s eta 0:00:23\n",
      "   --------------- ----------------------- 153.6/376.0 MB 10.0 MB/s eta 0:00:23\n",
      "   ---------------- ---------------------- 157.3/376.0 MB 10.1 MB/s eta 0:00:22\n",
      "   ---------------- ---------------------- 160.7/376.0 MB 10.2 MB/s eta 0:00:22\n",
      "   ---------------- ---------------------- 163.8/376.0 MB 10.2 MB/s eta 0:00:21\n",
      "   ----------------- --------------------- 167.5/376.0 MB 10.3 MB/s eta 0:00:21\n",
      "   ----------------- --------------------- 171.2/376.0 MB 10.4 MB/s eta 0:00:20\n",
      "   ------------------ -------------------- 174.6/376.0 MB 10.5 MB/s eta 0:00:20\n",
      "   ------------------ -------------------- 175.9/376.0 MB 10.4 MB/s eta 0:00:20\n",
      "   ------------------ -------------------- 180.1/376.0 MB 10.6 MB/s eta 0:00:19\n",
      "   ------------------- ------------------- 184.3/376.0 MB 10.7 MB/s eta 0:00:18\n",
      "   ------------------- ------------------- 188.2/376.0 MB 10.8 MB/s eta 0:00:18\n",
      "   ------------------- ------------------- 189.0/376.0 MB 10.7 MB/s eta 0:00:18\n",
      "   ------------------- ------------------- 191.9/376.0 MB 10.7 MB/s eta 0:00:18\n",
      "   -------------------- ------------------ 195.6/376.0 MB 10.8 MB/s eta 0:00:17\n",
      "   -------------------- ------------------ 196.6/376.0 MB 10.7 MB/s eta 0:00:17\n",
      "   -------------------- ------------------ 200.8/376.0 MB 10.8 MB/s eta 0:00:17\n",
      "   --------------------- ----------------- 205.0/376.0 MB 10.9 MB/s eta 0:00:16\n",
      "   --------------------- ----------------- 207.6/376.0 MB 11.0 MB/s eta 0:00:16\n",
      "   --------------------- ----------------- 210.8/376.0 MB 11.0 MB/s eta 0:00:16\n",
      "   ---------------------- ---------------- 213.9/376.0 MB 11.1 MB/s eta 0:00:15\n",
      "   ---------------------- ---------------- 216.8/376.0 MB 11.1 MB/s eta 0:00:15\n",
      "   ---------------------- ---------------- 219.9/376.0 MB 11.1 MB/s eta 0:00:15\n",
      "   ----------------------- --------------- 222.3/376.0 MB 11.1 MB/s eta 0:00:14\n",
      "   ----------------------- --------------- 224.4/376.0 MB 11.1 MB/s eta 0:00:14\n",
      "   ----------------------- --------------- 226.5/376.0 MB 11.1 MB/s eta 0:00:14\n",
      "   ----------------------- --------------- 229.4/376.0 MB 11.1 MB/s eta 0:00:14\n",
      "   ------------------------ -------------- 231.7/376.0 MB 11.1 MB/s eta 0:00:13\n",
      "   ------------------------ -------------- 234.4/376.0 MB 11.1 MB/s eta 0:00:13\n",
      "   ------------------------ -------------- 236.5/376.0 MB 11.1 MB/s eta 0:00:13\n",
      "   ------------------------ -------------- 239.1/376.0 MB 11.1 MB/s eta 0:00:13\n",
      "   ------------------------- ------------- 241.7/376.0 MB 11.2 MB/s eta 0:00:13\n",
      "   ------------------------- ------------- 244.1/376.0 MB 11.2 MB/s eta 0:00:12\n",
      "   ------------------------- ------------- 246.7/376.0 MB 11.2 MB/s eta 0:00:12\n",
      "   ------------------------- ------------- 249.3/376.0 MB 11.2 MB/s eta 0:00:12\n",
      "   -------------------------- ------------ 251.7/376.0 MB 11.2 MB/s eta 0:00:12\n",
      "   -------------------------- ------------ 254.0/376.0 MB 11.2 MB/s eta 0:00:11\n",
      "   -------------------------- ------------ 256.1/376.0 MB 11.2 MB/s eta 0:00:11\n",
      "   -------------------------- ------------ 257.4/376.0 MB 11.1 MB/s eta 0:00:11\n",
      "   -------------------------- ------------ 258.2/376.0 MB 11.1 MB/s eta 0:00:11\n",
      "   -------------------------- ------------ 259.0/376.0 MB 11.0 MB/s eta 0:00:11\n",
      "   --------------------------- ----------- 260.3/376.0 MB 11.0 MB/s eta 0:00:11\n",
      "   --------------------------- ----------- 260.8/376.0 MB 10.9 MB/s eta 0:00:11\n",
      "   --------------------------- ----------- 262.1/376.0 MB 10.9 MB/s eta 0:00:11\n",
      "   --------------------------- ----------- 262.9/376.0 MB 10.8 MB/s eta 0:00:11\n",
      "   --------------------------- ----------- 265.3/376.0 MB 10.7 MB/s eta 0:00:11\n",
      "   --------------------------- ----------- 267.1/376.0 MB 10.7 MB/s eta 0:00:11\n",
      "   --------------------------- ----------- 268.4/376.0 MB 10.6 MB/s eta 0:00:11\n",
      "   --------------------------- ----------- 269.5/376.0 MB 10.6 MB/s eta 0:00:11\n",
      "   ---------------------------- ---------- 270.5/376.0 MB 10.5 MB/s eta 0:00:11\n",
      "   ---------------------------- ---------- 271.6/376.0 MB 10.5 MB/s eta 0:00:10\n",
      "   ---------------------------- ---------- 273.2/376.0 MB 10.4 MB/s eta 0:00:10\n",
      "   ---------------------------- ---------- 275.3/376.0 MB 10.4 MB/s eta 0:00:10\n",
      "   ---------------------------- ---------- 277.6/376.0 MB 10.3 MB/s eta 0:00:10\n",
      "   ----------------------------- --------- 279.7/376.0 MB 10.3 MB/s eta 0:00:10\n",
      "   ----------------------------- --------- 282.3/376.0 MB 10.3 MB/s eta 0:00:10\n",
      "   ----------------------------- --------- 284.4/376.0 MB 10.2 MB/s eta 0:00:09\n",
      "   ----------------------------- --------- 286.8/376.0 MB 10.2 MB/s eta 0:00:09\n",
      "   ----------------------------- --------- 288.9/376.0 MB 10.2 MB/s eta 0:00:09\n",
      "   ------------------------------ -------- 290.7/376.0 MB 10.1 MB/s eta 0:00:09\n",
      "   ------------------------------ -------- 292.8/376.0 MB 10.1 MB/s eta 0:00:09\n",
      "   ------------------------------ -------- 295.4/376.0 MB 10.0 MB/s eta 0:00:09\n",
      "   ------------------------------ -------- 298.1/376.0 MB 10.1 MB/s eta 0:00:08\n",
      "   ------------------------------- ------- 300.7/376.0 MB 10.2 MB/s eta 0:00:08\n",
      "   ------------------------------- ------- 301.7/376.0 MB 10.3 MB/s eta 0:00:08\n",
      "   ------------------------------- ------- 304.6/376.0 MB 11.1 MB/s eta 0:00:07\n",
      "   ------------------------------- ------- 307.2/376.0 MB 11.1 MB/s eta 0:00:07\n",
      "   -------------------------------- ------ 309.9/376.0 MB 11.1 MB/s eta 0:00:06\n",
      "   -------------------------------- ------ 312.5/376.0 MB 11.2 MB/s eta 0:00:06\n",
      "   -------------------------------- ------ 314.8/376.0 MB 11.3 MB/s eta 0:00:06\n",
      "   -------------------------------- ------ 316.9/376.0 MB 11.3 MB/s eta 0:00:06\n",
      "   --------------------------------- ----- 319.3/376.0 MB 11.3 MB/s eta 0:00:06\n",
      "   --------------------------------- ----- 321.9/376.0 MB 11.3 MB/s eta 0:00:05\n",
      "   --------------------------------- ----- 324.5/376.0 MB 11.4 MB/s eta 0:00:05\n",
      "   --------------------------------- ----- 326.6/376.0 MB 11.3 MB/s eta 0:00:05\n",
      "   ---------------------------------- ---- 328.7/376.0 MB 11.3 MB/s eta 0:00:05\n",
      "   ---------------------------------- ---- 331.4/376.0 MB 11.3 MB/s eta 0:00:04\n",
      "   ---------------------------------- ---- 334.0/376.0 MB 11.4 MB/s eta 0:00:04\n",
      "   ---------------------------------- ---- 336.6/376.0 MB 11.5 MB/s eta 0:00:04\n",
      "   ----------------------------------- --- 338.7/376.0 MB 11.4 MB/s eta 0:00:04\n",
      "   ----------------------------------- --- 341.3/376.0 MB 11.5 MB/s eta 0:00:04\n",
      "   ----------------------------------- --- 342.9/376.0 MB 11.4 MB/s eta 0:00:03\n",
      "   ----------------------------------- --- 343.9/376.0 MB 11.4 MB/s eta 0:00:03\n",
      "   ----------------------------------- --- 344.5/376.0 MB 11.3 MB/s eta 0:00:03\n",
      "   ----------------------------------- --- 345.8/376.0 MB 11.3 MB/s eta 0:00:03\n",
      "   ----------------------------------- --- 346.6/376.0 MB 11.2 MB/s eta 0:00:03\n",
      "   ------------------------------------ -- 349.2/376.0 MB 11.1 MB/s eta 0:00:03\n",
      "   ------------------------------------ -- 352.1/376.0 MB 11.1 MB/s eta 0:00:03\n",
      "   ------------------------------------ -- 353.4/376.0 MB 11.1 MB/s eta 0:00:03\n",
      "   ------------------------------------ -- 353.9/376.0 MB 11.0 MB/s eta 0:00:02\n",
      "   ------------------------------------ -- 354.4/376.0 MB 11.0 MB/s eta 0:00:02\n",
      "   ------------------------------------ -- 354.9/376.0 MB 10.9 MB/s eta 0:00:02\n",
      "   ------------------------------------ -- 355.5/376.0 MB 10.8 MB/s eta 0:00:02\n",
      "   ------------------------------------- - 358.1/376.0 MB 10.8 MB/s eta 0:00:02\n",
      "   ------------------------------------- - 361.2/376.0 MB 10.9 MB/s eta 0:00:02\n",
      "   ------------------------------------- - 364.9/376.0 MB 10.9 MB/s eta 0:00:02\n",
      "   --------------------------------------  368.1/376.0 MB 10.9 MB/s eta 0:00:01\n",
      "   --------------------------------------  370.4/376.0 MB 11.0 MB/s eta 0:00:01\n",
      "   --------------------------------------  373.6/376.0 MB 11.2 MB/s eta 0:00:01\n",
      "   --------------------------------------  375.9/376.0 MB 11.2 MB/s eta 0:00:01\n",
      "   --------------------------------------  375.9/376.0 MB 11.2 MB/s eta 0:00:01\n",
      "   --------------------------------------- 376.0/376.0 MB 11.0 MB/s eta 0:00:00\n",
      "Downloading absl_py-2.2.0-py3-none-any.whl (276 kB)\n",
      "Downloading astunparse-1.6.3-py2.py3-none-any.whl (12 kB)\n",
      "Downloading flatbuffers-25.2.10-py2.py3-none-any.whl (30 kB)\n",
      "Downloading gast-0.6.0-py3-none-any.whl (21 kB)\n",
      "Downloading google_pasta-0.2.0-py3-none-any.whl (57 kB)\n",
      "Downloading grpcio-1.71.0-cp312-cp312-win_amd64.whl (4.3 MB)\n",
      "   ---------------------------------------- 0.0/4.3 MB ? eta -:--:--\n",
      "   ------------------------ --------------- 2.6/4.3 MB 13.7 MB/s eta 0:00:01\n",
      "   ---------------------------------------- 4.3/4.3 MB 13.5 MB/s eta 0:00:00\n",
      "Downloading keras-3.9.0-py3-none-any.whl (1.3 MB)\n",
      "   ---------------------------------------- 0.0/1.3 MB ? eta -:--:--\n",
      "   ---------------------------------------- 1.3/1.3 MB 13.8 MB/s eta 0:00:00\n",
      "Downloading libclang-18.1.1-py2.py3-none-win_amd64.whl (26.4 MB)\n",
      "   ---------------------------------------- 0.0/26.4 MB ? eta -:--:--\n",
      "   ---- ----------------------------------- 2.9/26.4 MB 13.9 MB/s eta 0:00:02\n",
      "   -------- ------------------------------- 5.5/26.4 MB 12.9 MB/s eta 0:00:02\n",
      "   ----------- ---------------------------- 7.3/26.4 MB 12.9 MB/s eta 0:00:02\n",
      "   ------------- -------------------------- 8.9/26.4 MB 10.6 MB/s eta 0:00:02\n",
      "   ----------------- ---------------------- 11.8/26.4 MB 11.2 MB/s eta 0:00:02\n",
      "   ----------------------- ---------------- 15.7/26.4 MB 12.5 MB/s eta 0:00:01\n",
      "   ---------------------------- ----------- 19.1/26.4 MB 13.0 MB/s eta 0:00:01\n",
      "   ---------------------------------- ----- 22.8/26.4 MB 13.6 MB/s eta 0:00:01\n",
      "   ---------------------------------------  26.2/26.4 MB 14.2 MB/s eta 0:00:01\n",
      "   ---------------------------------------- 26.4/26.4 MB 13.8 MB/s eta 0:00:00\n",
      "Downloading ml_dtypes-0.5.1-cp312-cp312-win_amd64.whl (210 kB)\n",
      "Downloading opt_einsum-3.4.0-py3-none-any.whl (71 kB)\n",
      "Downloading tensorboard-2.19.0-py3-none-any.whl (5.5 MB)\n",
      "   ---------------------------------------- 0.0/5.5 MB ? eta -:--:--\n",
      "   -------------------------- ------------- 3.7/5.5 MB 18.2 MB/s eta 0:00:01\n",
      "   ---------------------------------------- 5.5/5.5 MB 17.6 MB/s eta 0:00:00\n",
      "Downloading termcolor-2.5.0-py3-none-any.whl (7.8 kB)\n",
      "Downloading tensorboard_data_server-0.7.2-py3-none-any.whl (2.4 kB)\n",
      "Downloading namex-0.0.8-py3-none-any.whl (5.8 kB)\n",
      "Downloading optree-0.14.1-cp312-cp312-win_amd64.whl (306 kB)\n",
      "Installing collected packages: namex, libclang, flatbuffers, termcolor, tensorboard-data-server, optree, opt-einsum, ml-dtypes, grpcio, google-pasta, gast, astunparse, absl-py, tensorboard, keras, tensorflow\n",
      "Successfully installed absl-py-2.2.0 astunparse-1.6.3 flatbuffers-25.2.10 gast-0.6.0 google-pasta-0.2.0 grpcio-1.71.0 keras-3.9.0 libclang-18.1.1 ml-dtypes-0.5.1 namex-0.0.8 opt-einsum-3.4.0 optree-0.14.1 tensorboard-2.19.0 tensorboard-data-server-0.7.2 tensorflow-2.19.0 termcolor-2.5.0\n",
      "Note: you may need to restart the kernel to use updated packages.\n"
     ]
    }
   ],
   "source": [
    "pip install tensorflow"
   ]
  },
  {
   "cell_type": "code",
   "execution_count": 1,
   "metadata": {},
   "outputs": [],
   "source": [
    "import numpy as np"
   ]
  },
  {
   "cell_type": "code",
   "execution_count": 2,
   "metadata": {},
   "outputs": [
    {
     "data": {
      "text/plain": [
       "array([0.01821127, 0.24519181, 0.73659691])"
      ]
     },
     "execution_count": 2,
     "metadata": {},
     "output_type": "execute_result"
    }
   ],
   "source": [
    "# 출력층의 WX+b를 z라고 가정\n",
    "z = np.array([0.3, 2.9, 4.0])\n",
    "\n",
    "# 분자 부분 계산\n",
    "exp_z = np.exp(z)\n",
    "\n",
    "# 분모 부분 계산\n",
    "sum_exp_z = np.sum(exp_z)\n",
    "\n",
    "pred_y = exp_z / sum_exp_z\n",
    "pred_y"
   ]
  },
  {
   "cell_type": "code",
   "execution_count": 3,
   "metadata": {},
   "outputs": [
    {
     "data": {
      "text/plain": [
       "1.0"
      ]
     },
     "execution_count": 3,
     "metadata": {},
     "output_type": "execute_result"
    }
   ],
   "source": [
    "np.sum(pred_y)"
   ]
  },
  {
   "cell_type": "code",
   "execution_count": 4,
   "metadata": {},
   "outputs": [],
   "source": [
    "def softmax(z):\n",
    "  exp_z = np.exp(z) # 분자\n",
    "  sum_exp_z = np.sum(exp_z) # 분모\n",
    "  pred_y = exp_z / sum_exp_z\n",
    "\n",
    "  return pred_y"
   ]
  },
  {
   "cell_type": "code",
   "execution_count": 5,
   "metadata": {},
   "outputs": [
    {
     "name": "stderr",
     "output_type": "stream",
     "text": [
      "C:\\Users\\user\\AppData\\Local\\Temp\\ipykernel_19332\\2062636371.py:2: RuntimeWarning: overflow encountered in exp\n",
      "  exp_z = np.exp(z) # 분자\n",
      "C:\\Users\\user\\AppData\\Local\\Temp\\ipykernel_19332\\2062636371.py:4: RuntimeWarning: invalid value encountered in divide\n",
      "  pred_y = exp_z / sum_exp_z\n"
     ]
    },
    {
     "data": {
      "text/plain": [
       "array([nan, nan, nan])"
      ]
     },
     "execution_count": 5,
     "metadata": {},
     "output_type": "execute_result"
    }
   ],
   "source": [
    "big_z = [1000, 900, 1100]\n",
    "\n",
    "softmax(big_z)"
   ]
  },
  {
   "cell_type": "code",
   "execution_count": 6,
   "metadata": {},
   "outputs": [
    {
     "data": {
      "text/plain": [
       "array([-100, -200,    0])"
      ]
     },
     "execution_count": 6,
     "metadata": {},
     "output_type": "execute_result"
    }
   ],
   "source": [
    "# C prime은 보통 원소 중 가장 큰 값에 -1을 곱한 값을 사용\n",
    "c = -np.max(big_z)\n",
    "big_z + c"
   ]
  },
  {
   "cell_type": "code",
   "execution_count": 7,
   "metadata": {},
   "outputs": [
    {
     "data": {
      "text/plain": [
       "array([3.72007598e-44, 1.38389653e-87, 1.00000000e+00])"
      ]
     },
     "execution_count": 7,
     "metadata": {},
     "output_type": "execute_result"
    }
   ],
   "source": [
    "# 튜닝된 소프트맥스\n",
    "def softmax(z):\n",
    "  c = np.max(z)\n",
    "\n",
    "  exp_z = np.exp(z - c)\n",
    "  sum_exp_z = np.sum(exp_z)\n",
    "\n",
    "  pred_y = exp_z / sum_exp_z\n",
    "  return pred_y\n",
    "\n",
    "softmax(big_z)"
   ]
  },
  {
   "cell_type": "code",
   "execution_count": 10,
   "metadata": {},
   "outputs": [
    {
     "name": "stdout",
     "output_type": "stream",
     "text": [
      "Downloading data from https://storage.googleapis.com/tensorflow/tf-keras-datasets/mnist.npz\n",
      "\u001b[1m11490434/11490434\u001b[0m \u001b[32m━━━━━━━━━━━━━━━━━━━━\u001b[0m\u001b[37m\u001b[0m \u001b[1m1s\u001b[0m 0us/step\n"
     ]
    }
   ],
   "source": [
    "import tensorflow as tf\n",
    "import matplotlib.pyplot as plt\n",
    "\n",
    "# mnist 데이터 세트 로딩\n",
    "from tensorflow.keras import datasets\n",
    "\n",
    "mnist = datasets.mnist\n",
    "\n",
    "(X_train, y_train), (X_test, y_test) = mnist.load_data()"
   ]
  },
  {
   "cell_type": "code",
   "execution_count": 11,
   "metadata": {},
   "outputs": [
    {
     "data": {
      "text/plain": [
       "(60000, 28, 28)"
      ]
     },
     "execution_count": 11,
     "metadata": {},
     "output_type": "execute_result"
    }
   ],
   "source": [
    "X_train.shape"
   ]
  },
  {
   "cell_type": "code",
   "execution_count": 12,
   "metadata": {},
   "outputs": [
    {
     "name": "stdout",
     "output_type": "stream",
     "text": [
      "(28, 28)\n"
     ]
    },
    {
     "data": {
      "image/png": "[encoded data removed]",
      "text/plain": [
       "<Figure size 640x480 with 1 Axes>"
      ]
     },
     "metadata": {},
     "output_type": "display_data"
    }
   ],
   "source": [
    "test_image = X_train[0]\n",
    "print(test_image.shape)\n",
    "\n",
    "plt.imshow(test_image, 'gray') # 채널에 대한 정보가 없으면 흑백\n",
    "plt.title(y_train[0])\n",
    "plt.show()"
   ]
  },
  {
   "cell_type": "code",
   "execution_count": 13,
   "metadata": {},
   "outputs": [
    {
     "data": {
      "text/plain": [
       "(784,)"
      ]
     },
     "execution_count": 13,
     "metadata": {},
     "output_type": "execute_result"
    }
   ],
   "source": [
    "test_image.flatten().shape"
   ]
  },
  {
   "cell_type": "code",
   "execution_count": 14,
   "metadata": {},
   "outputs": [
    {
     "data": {
      "text/plain": [
       "(1, 784)"
      ]
     },
     "execution_count": 14,
     "metadata": {},
     "output_type": "execute_result"
    }
   ],
   "source": [
    "# 배치 정보 부여하기. (N, M) -> (1, 784)\n",
    "test_image.reshape(1, -1).shape"
   ]
  },
  {
   "cell_type": "code",
   "execution_count": 15,
   "metadata": {},
   "outputs": [],
   "source": [
    "def sigmoid(x):\n",
    "  return 1 / (1 + np.exp(-x))\n",
    "\n",
    "# 테스트 데이터만 가져오기\n",
    "def get_test_data():\n",
    "  _, (X_test, t_test) = mnist.load_data()\n",
    "\n",
    "  # YOUR CODE HERE\n",
    "  # 단순히 X_test로 리턴하는게 아닌 (N, M) 형태로 리턴하기\n",
    "\n",
    "  IMAGE_COUNT = X_test.shape[0] # shape[0] : 이미지개수 (X_test.shape -> (10000,28,28))\n",
    "\n",
    "  X_test_reshaped = X_test.reshape(IMAGE_COUNT, -1)\n",
    "\n",
    "  return X_test_reshaped, t_test\n",
    "\n",
    "# 이미 학습이 완료된 신경망 데이터 가져오기(sample_weight.pkl)\n",
    "def init_network():\n",
    "  import pickle\n",
    "  with open(\"./sample_weight.pkl\", \"rb\") as f:\n",
    "    network = pickle.load(f)\n",
    "\n",
    "  return network"
   ]
  },
  {
   "cell_type": "code",
   "execution_count": 18,
   "metadata": {},
   "outputs": [
    {
     "data": {
      "text/plain": [
       "(784, 50)"
      ]
     },
     "execution_count": 18,
     "metadata": {},
     "output_type": "execute_result"
    }
   ],
   "source": [
    "network = init_network()\n",
    "network[\"W1\"].shape\n"
   ]
  },
  {
   "cell_type": "code",
   "execution_count": 19,
   "metadata": {},
   "outputs": [
    {
     "data": {
      "text/plain": [
       "(50, 100)"
      ]
     },
     "execution_count": 19,
     "metadata": {},
     "output_type": "execute_result"
    }
   ],
   "source": [
    "network[\"W2\"].shape"
   ]
  },
  {
   "cell_type": "code",
   "execution_count": 20,
   "metadata": {},
   "outputs": [
    {
     "data": {
      "text/plain": [
       "(100, 10)"
      ]
     },
     "execution_count": 20,
     "metadata": {},
     "output_type": "execute_result"
    }
   ],
   "source": [
    "network[\"W3\"].shape"
   ]
  },
  {
   "cell_type": "code",
   "execution_count": 22,
   "metadata": {},
   "outputs": [],
   "source": [
    "def predict(network, x) :\n",
    "    \"\"\"\n",
    "        network : 가중치가 들어있는 신경망 W1 ~ W3\n",
    "        x : 신경망에 입력되는 데이터\n",
    "    \"\"\"\n",
    "    W1, W2, W3 = network[\"W1\"], network[\"W2\"], network[\"W3\"]\n",
    "    b1, b2, b3 = network[\"b1\"], network[\"b2\"], network[\"b3\"]\n",
    "\n",
    "    # x : 원래 28 x 28 형식의 이미지, 이것을 평탄화 시켜 784차원 벡터로 만듦\n",
    "    # W1 : 뉴런의 개수가 몇 개인지는 몰라도\n",
    "    #        입력되는 데이터의 개수인 784개의 입력을 각각 받는다는 것은 알 수 있다.\n",
    "    \n",
    "    # 1층 FCL 구현\n",
    "    z1 = x @ W1 + b1 # 선형 조합 연산 \n",
    "    a1 = sigmoid(z1) # 선형 조합된 연산에 비선형성을 부여\n",
    "\n",
    "    # 2층\n",
    "    z2 = a1 @ W2 + b2\n",
    "    a2 = sigmoid(z2)\n",
    "\n",
    "    # 3층(출력층)\n",
    "    z3 = a2 @ W3 + b3\n",
    "    pred = softmax(z3)\n",
    "\n",
    "    return pred"
   ]
  },
  {
   "cell_type": "markdown",
   "metadata": {},
   "source": [
    "# 추론 ( inference )\n",
    "- 순전파(Forward Propagation)에 해당한다. \n",
    "    - 입력 데이터 -> 은닉층 -> 출력층\n",
    "    - (N, 784) -> 은닉층 -> (N, 10)\n",
    "- 예측 과정."
   ]
  },
  {
   "cell_type": "code",
   "execution_count": 24,
   "metadata": {},
   "outputs": [],
   "source": [
    "X, y = get_test_data()\n",
    "\n",
    "# 한 장의 이미지만 가져와서 테스트 해보기\n",
    "test_image, test_target =  X[0], y[0]"
   ]
  },
  {
   "cell_type": "code",
   "execution_count": 25,
   "metadata": {},
   "outputs": [
    {
     "data": {
      "text/plain": [
       "(784,)"
      ]
     },
     "execution_count": 25,
     "metadata": {},
     "output_type": "execute_result"
    }
   ],
   "source": [
    "test_image.shape"
   ]
  },
  {
   "cell_type": "code",
   "execution_count": 26,
   "metadata": {},
   "outputs": [
    {
     "data": {
      "text/plain": [
       "(1, 784)"
      ]
     },
     "execution_count": 26,
     "metadata": {},
     "output_type": "execute_result"
    }
   ],
   "source": [
    "# 배치 정보 부여\n",
    "test_image = test_image.reshape(1, -1)\n",
    "test_image.shape"
   ]
  },
  {
   "cell_type": "code",
   "execution_count": 27,
   "metadata": {},
   "outputs": [
    {
     "name": "stderr",
     "output_type": "stream",
     "text": [
      "C:\\Users\\user\\AppData\\Local\\Temp\\ipykernel_19332\\1185480774.py:2: RuntimeWarning: overflow encountered in exp\n",
      "  return 1 / (1 + np.exp(-x))\n"
     ]
    },
    {
     "data": {
      "text/plain": [
       "array([[4.2879042e-06, 4.5729357e-07, 1.8486280e-04, 8.3605024e-05,\n",
       "        1.5084704e-07, 6.3182267e-07, 4.5782045e-10, 9.9919468e-01,\n",
       "        3.8066935e-07, 5.3083047e-04]], dtype=float32)"
      ]
     },
     "execution_count": 27,
     "metadata": {},
     "output_type": "execute_result"
    }
   ],
   "source": [
    "# 네트워크 생성\n",
    "model = init_network()\n",
    "\n",
    "test_result =  predict(model, test_image)\n",
    "test_result"
   ]
  },
  {
   "cell_type": "code",
   "execution_count": 28,
   "metadata": {},
   "outputs": [
    {
     "data": {
      "text/plain": [
       "0.9999999"
      ]
     },
     "execution_count": 28,
     "metadata": {},
     "output_type": "execute_result"
    }
   ],
   "source": [
    "test_result.sum()"
   ]
  },
  {
   "cell_type": "code",
   "execution_count": 29,
   "metadata": {},
   "outputs": [
    {
     "data": {
      "text/plain": [
       "7"
      ]
     },
     "execution_count": 29,
     "metadata": {},
     "output_type": "execute_result"
    }
   ],
   "source": [
    "# 확률이 가장 높은 인덱스(클래스) 구해내기\n",
    "np.argmax(test_result)"
   ]
  },
  {
   "cell_type": "code",
   "execution_count": 30,
   "metadata": {},
   "outputs": [
    {
     "data": {
      "image/png": "[encoded data removed]",
      "text/plain": [
       "<Figure size 640x480 with 1 Axes>"
      ]
     },
     "metadata": {},
     "output_type": "display_data"
    }
   ],
   "source": [
    "plt.imshow(test_image.reshape(28, 28), 'gray')\n",
    "plt.title(test_target)\n",
    "plt.show()"
   ]
  },
  {
   "cell_type": "markdown",
   "metadata": {},
   "source": [
    "# 모델의 예측 정확도 확인"
   ]
  },
  {
   "cell_type": "code",
   "execution_count": null,
   "metadata": {},
   "outputs": [
    {
     "name": "stderr",
     "output_type": "stream",
     "text": [
      "C:\\Users\\user\\AppData\\Local\\Temp\\ipykernel_19332\\1185480774.py:2: RuntimeWarning: overflow encountered in exp\n",
      "  return 1 / (1 + np.exp(-x))\n"
     ]
    },
    {
     "data": {
      "text/plain": [
       "0.9207"
      ]
     },
     "execution_count": 35,
     "metadata": {},
     "output_type": "execute_result"
    }
   ],
   "source": [
    "# 한 장씩 예측해서 정확도 확인\n",
    "X, y = get_test_data()\n",
    "\n",
    "model = init_network()\n",
    "acc_count = 0 #  정답을 맞춘 개수를 저장 ( 예를 들어 1만장 중 500장 맞았으면 500 )\n",
    "\n",
    "# 이미지를 한 장씩 꺼내서 테스트\n",
    "for i in range(len(X)) :\n",
    "    image = X[i]\n",
    "\n",
    "    pred = predict(model, image) # 이미지 한 장 마다의 소프트맥스 결과물 (10, )\n",
    "    pred = np.argmax(pred) # 확률이 가장 높은 원소의 인덱스( 예측 클래스 )\n",
    "\n",
    "    acc_count += (pred == y[i]) # 정답(y)과 예측(pred)이 맞으면 +1\n",
    "\n",
    "float(acc_count / len(X)) # 맞춘 데이터 개수 / 전체 데이터 개수"
   ]
  },
  {
   "cell_type": "markdown",
   "metadata": {},
   "source": [
    "위 코드의 단점\n",
    "- 1만장의 이미지를 한장씩 예측하고 있다.\n",
    "- 시간이 오래걸린다는 이야기다.\n",
    "\n",
    "어떻게 해결할수 있을까?\n",
    "- BATCH를 사용해서 한장씩이 아닌 데이터의 묶음으로 예측을 하게 하겠다.\n",
    "- 배치 : 데이터의 뭉터기"
   ]
  },
  {
   "cell_type": "code",
   "execution_count": 40,
   "metadata": {},
   "outputs": [
    {
     "name": "stderr",
     "output_type": "stream",
     "text": [
      "C:\\Users\\user\\AppData\\Local\\Temp\\ipykernel_19332\\1185480774.py:2: RuntimeWarning: overflow encountered in exp\n",
      "  return 1 / (1 + np.exp(-x))\n"
     ]
    },
    {
     "data": {
      "text/plain": [
       "0.9207"
      ]
     },
     "execution_count": 40,
     "metadata": {},
     "output_type": "execute_result"
    }
   ],
   "source": [
    "X, y = get_test_data()\n",
    "model = init_network()\n",
    "\n",
    "# 배치란? 데이터의 묶음. 정확한 명칭으로는 미니 배치\n",
    "#   원래 데이터 엔지니어링 관점에서의 배치는 가지고 있는 모든 데이터를 의미\n",
    "#   딥러닝 같은 머신러닝 모델링에서의 배치는 전체 데이터를 배치 사이즈 단위로 쪼갠 미니 배치를 그냥 배치라고함\n",
    "batch_size = 100\n",
    "acc_count = 0\n",
    "\n",
    "for i in range(0, len(X), batch_size) :\n",
    "\n",
    "    X_batch = X[i : i + batch_size]\n",
    "\n",
    "    pred_batch = predict(model, X_batch)\n",
    "    pred_batch = np.argmax(pred_batch, axis = 1)\n",
    "\n",
    "    acc_count += np.sum(pred_batch == y[i : i + batch_size])\n",
    "\n",
    "float(acc_count / len(X))"
   ]
  },
  {
   "cell_type": "code",
   "execution_count": null,
   "metadata": {},
   "outputs": [],
   "source": []
  }
 ],
 "metadata": {
  "kernelspec": {
   "display_name": "base",
   "language": "python",
   "name": "python3"
  },
  "language_info": {
   "codemirror_mode": {
    "name": "ipython",
    "version": 3
   },
   "file_extension": ".py",
   "mimetype": "text/x-python",
   "name": "python",
   "nbconvert_exporter": "python",
   "pygments_lexer": "ipython3",
   "version": "3.12.7"
  }
 },
 "nbformat": 4,
 "nbformat_minor": 2
}
