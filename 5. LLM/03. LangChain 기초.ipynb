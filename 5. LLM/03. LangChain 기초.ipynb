{
 "cells": [
  {
   "cell_type": "markdown",
   "id": "a8496dfb",
   "metadata": {},
   "source": [
    "# Langchain이란?\n",
    "보통 언어 모델이 해결할 수 있는 것은 단순한 지시만으로는 해결할 수 없는 문제를 해결하곤 합니다. 번역, 요약, 말투 변경, 작문 등이 여기에 해당합니다.\n",
    "\n",
    "하지만 언어 모델은 현재 알고 있는 정보로만 답변을 할 수 있기 때문에 학습 당시의 지식을 벗어난 정보에 대해서는 답변이 불가능하다는 단점을 안고 있습니다.\n",
    "\n",
    "이러한 언어 모델의 한게를 넘어서기 위해 RAG(Retrieval Augmented Generation), ReACT(Reasoning and Acting) 등의 방법론들이 등장하게 되었으며, 이러한 방법론들을 적용하면서 언어 모델 애플리케이션을 개발하기 위해 등장한 것이 OpenAI의 Langchain 입니다.\n",
    "\n",
    "* Model I/O: 프롬프트 준비, 언어 모델 호출, 결과 수신\n",
    "* Retrieval: 외부 지식을 LLM에 주입. ChatPDF, CSV 파일 기반 답변\n",
    "* Memory: 과거의 대화를 장/단기로 기억. 이전 문맥을 고려한 답변.\n",
    "* Chains: 여러 모듈을 통합하는 기능. 단독 사용 용도 X\n",
    "* Agents: ReACT나 Function Calling 기법을 사용해 외부와 상호 작용.\n",
    "* Callbacks: 다양한 이벤트 발생을 처리 가능. 단독 사용 용도 X\n"
   ]
  },
  {
   "cell_type": "code",
   "execution_count": null,
   "id": "a100b958",
   "metadata": {},
   "outputs": [
    {
     "name": "stdout",
     "output_type": "stream",
     "text": [
      "Requirement already satisfied: openai in c:\\users\\user\\anaconda3\\lib\\site-packages (1.75.0)\n",
      "Collecting langchain\n",
      "  Downloading langchain-0.3.23-py3-none-any.whl.metadata (7.8 kB)\n",
      "Collecting tiktoken\n",
      "  Downloading tiktoken-0.9.0-cp312-cp312-win_amd64.whl.metadata (6.8 kB)\n",
      "Collecting langchain_community\n",
      "  Downloading langchain_community-0.3.21-py3-none-any.whl.metadata (2.4 kB)\n",
      "Collecting langchain-openai\n",
      "  Downloading langchain_openai-0.3.13-py3-none-any.whl.metadata (2.3 kB)\n",
      "Requirement already satisfied: anyio<5,>=3.5.0 in c:\\users\\user\\anaconda3\\lib\\site-packages (from openai) (4.2.0)\n",
      "Requirement already satisfied: distro<2,>=1.7.0 in c:\\users\\user\\anaconda3\\lib\\site-packages (from openai) (1.9.0)\n",
      "Requirement already satisfied: httpx<1,>=0.23.0 in c:\\users\\user\\anaconda3\\lib\\site-packages (from openai) (0.27.0)\n",
      "Requirement already satisfied: jiter<1,>=0.4.0 in c:\\users\\user\\anaconda3\\lib\\site-packages (from openai) (0.9.0)\n",
      "Requirement already satisfied: pydantic<3,>=1.9.0 in c:\\users\\user\\anaconda3\\lib\\site-packages (from openai) (2.8.2)\n",
      "Requirement already satisfied: sniffio in c:\\users\\user\\anaconda3\\lib\\site-packages (from openai) (1.3.0)\n",
      "Requirement already satisfied: tqdm>4 in c:\\users\\user\\anaconda3\\lib\\site-packages (from openai) (4.66.5)\n",
      "Requirement already satisfied: typing-extensions<5,>=4.11 in c:\\users\\user\\anaconda3\\lib\\site-packages (from openai) (4.11.0)\n",
      "Collecting langchain-core<1.0.0,>=0.3.51 (from langchain)\n",
      "  Downloading langchain_core-0.3.52-py3-none-any.whl.metadata (5.9 kB)\n",
      "Collecting langchain-text-splitters<1.0.0,>=0.3.8 (from langchain)\n",
      "  Downloading langchain_text_splitters-0.3.8-py3-none-any.whl.metadata (1.9 kB)\n",
      "Collecting langsmith<0.4,>=0.1.17 (from langchain)\n",
      "  Downloading langsmith-0.3.31-py3-none-any.whl.metadata (15 kB)\n",
      "Requirement already satisfied: SQLAlchemy<3,>=1.4 in c:\\users\\user\\anaconda3\\lib\\site-packages (from langchain) (2.0.34)\n",
      "Requirement already satisfied: requests<3,>=2 in c:\\users\\user\\anaconda3\\lib\\site-packages (from langchain) (2.32.3)\n",
      "Requirement already satisfied: PyYAML>=5.3 in c:\\users\\user\\anaconda3\\lib\\site-packages (from langchain) (6.0.1)\n",
      "Requirement already satisfied: regex>=2022.1.18 in c:\\users\\user\\anaconda3\\lib\\site-packages (from tiktoken) (2024.9.11)\n",
      "Requirement already satisfied: aiohttp<4.0.0,>=3.8.3 in c:\\users\\user\\anaconda3\\lib\\site-packages (from langchain_community) (3.10.5)\n",
      "Requirement already satisfied: tenacity!=8.4.0,<10,>=8.1.0 in c:\\users\\user\\anaconda3\\lib\\site-packages (from langchain_community) (8.2.3)\n",
      "Collecting dataclasses-json<0.7,>=0.5.7 (from langchain_community)\n",
      "  Downloading dataclasses_json-0.6.7-py3-none-any.whl.metadata (25 kB)\n",
      "Collecting pydantic-settings<3.0.0,>=2.4.0 (from langchain_community)\n",
      "  Downloading pydantic_settings-2.8.1-py3-none-any.whl.metadata (3.5 kB)\n",
      "Collecting httpx-sse<1.0.0,>=0.4.0 (from langchain_community)\n",
      "  Downloading httpx_sse-0.4.0-py3-none-any.whl.metadata (9.0 kB)\n",
      "Requirement already satisfied: numpy<3,>=1.26.2 in c:\\users\\user\\anaconda3\\lib\\site-packages (from langchain_community) (1.26.4)\n",
      "Requirement already satisfied: aiohappyeyeballs>=2.3.0 in c:\\users\\user\\anaconda3\\lib\\site-packages (from aiohttp<4.0.0,>=3.8.3->langchain_community) (2.4.0)\n",
      "Requirement already satisfied: aiosignal>=1.1.2 in c:\\users\\user\\anaconda3\\lib\\site-packages (from aiohttp<4.0.0,>=3.8.3->langchain_community) (1.2.0)\n",
      "Requirement already satisfied: attrs>=17.3.0 in c:\\users\\user\\anaconda3\\lib\\site-packages (from aiohttp<4.0.0,>=3.8.3->langchain_community) (23.1.0)\n",
      "Requirement already satisfied: frozenlist>=1.1.1 in c:\\users\\user\\anaconda3\\lib\\site-packages (from aiohttp<4.0.0,>=3.8.3->langchain_community) (1.4.0)\n",
      "Requirement already satisfied: multidict<7.0,>=4.5 in c:\\users\\user\\anaconda3\\lib\\site-packages (from aiohttp<4.0.0,>=3.8.3->langchain_community) (6.0.4)\n",
      "Requirement already satisfied: yarl<2.0,>=1.0 in c:\\users\\user\\anaconda3\\lib\\site-packages (from aiohttp<4.0.0,>=3.8.3->langchain_community) (1.11.0)\n",
      "Requirement already satisfied: idna>=2.8 in c:\\users\\user\\anaconda3\\lib\\site-packages (from anyio<5,>=3.5.0->openai) (3.7)\n",
      "Collecting marshmallow<4.0.0,>=3.18.0 (from dataclasses-json<0.7,>=0.5.7->langchain_community)\n",
      "  Downloading marshmallow-3.26.1-py3-none-any.whl.metadata (7.3 kB)\n",
      "Collecting typing-inspect<1,>=0.4.0 (from dataclasses-json<0.7,>=0.5.7->langchain_community)\n",
      "  Downloading typing_inspect-0.9.0-py3-none-any.whl.metadata (1.5 kB)\n",
      "Requirement already satisfied: certifi in c:\\users\\user\\anaconda3\\lib\\site-packages (from httpx<1,>=0.23.0->openai) (2025.1.31)\n",
      "Requirement already satisfied: httpcore==1.* in c:\\users\\user\\anaconda3\\lib\\site-packages (from httpx<1,>=0.23.0->openai) (1.0.2)\n",
      "Requirement already satisfied: h11<0.15,>=0.13 in c:\\users\\user\\anaconda3\\lib\\site-packages (from httpcore==1.*->httpx<1,>=0.23.0->openai) (0.14.0)\n",
      "Requirement already satisfied: jsonpatch<2.0,>=1.33 in c:\\users\\user\\anaconda3\\lib\\site-packages (from langchain-core<1.0.0,>=0.3.51->langchain) (1.33)\n",
      "Requirement already satisfied: packaging<25,>=23.2 in c:\\users\\user\\anaconda3\\lib\\site-packages (from langchain-core<1.0.0,>=0.3.51->langchain) (24.2)\n",
      "Collecting orjson<4.0.0,>=3.9.14 (from langsmith<0.4,>=0.1.17->langchain)\n",
      "  Downloading orjson-3.10.16-cp312-cp312-win_amd64.whl.metadata (42 kB)\n",
      "Requirement already satisfied: requests-toolbelt<2.0.0,>=1.0.0 in c:\\users\\user\\anaconda3\\lib\\site-packages (from langsmith<0.4,>=0.1.17->langchain) (1.0.0)\n",
      "Requirement already satisfied: zstandard<0.24.0,>=0.23.0 in c:\\users\\user\\anaconda3\\lib\\site-packages (from langsmith<0.4,>=0.1.17->langchain) (0.23.0)\n",
      "Requirement already satisfied: annotated-types>=0.4.0 in c:\\users\\user\\anaconda3\\lib\\site-packages (from pydantic<3,>=1.9.0->openai) (0.6.0)\n",
      "Requirement already satisfied: pydantic-core==2.20.1 in c:\\users\\user\\anaconda3\\lib\\site-packages (from pydantic<3,>=1.9.0->openai) (2.20.1)\n",
      "Requirement already satisfied: python-dotenv>=0.21.0 in c:\\users\\user\\anaconda3\\lib\\site-packages (from pydantic-settings<3.0.0,>=2.4.0->langchain_community) (0.21.0)\n",
      "Requirement already satisfied: charset-normalizer<4,>=2 in c:\\users\\user\\anaconda3\\lib\\site-packages (from requests<3,>=2->langchain) (3.3.2)\n",
      "Requirement already satisfied: urllib3<3,>=1.21.1 in c:\\users\\user\\anaconda3\\lib\\site-packages (from requests<3,>=2->langchain) (2.2.3)\n",
      "Requirement already satisfied: greenlet!=0.4.17 in c:\\users\\user\\anaconda3\\lib\\site-packages (from SQLAlchemy<3,>=1.4->langchain) (3.0.1)\n",
      "Requirement already satisfied: colorama in c:\\users\\user\\anaconda3\\lib\\site-packages (from tqdm>4->openai) (0.4.6)\n",
      "Requirement already satisfied: jsonpointer>=1.9 in c:\\users\\user\\anaconda3\\lib\\site-packages (from jsonpatch<2.0,>=1.33->langchain-core<1.0.0,>=0.3.51->langchain) (2.1)\n",
      "Requirement already satisfied: mypy-extensions>=0.3.0 in c:\\users\\user\\anaconda3\\lib\\site-packages (from typing-inspect<1,>=0.4.0->dataclasses-json<0.7,>=0.5.7->langchain_community) (1.0.0)\n",
      "Downloading langchain-0.3.23-py3-none-any.whl (1.0 MB)\n",
      "   ---------------------------------------- 0.0/1.0 MB ? eta -:--:--\n",
      "   ---------------------------------------- 1.0/1.0 MB 11.9 MB/s eta 0:00:00\n",
      "Downloading tiktoken-0.9.0-cp312-cp312-win_amd64.whl (894 kB)\n",
      "   ---------------------------------------- 0.0/894.9 kB ? eta -:--:--\n",
      "   --------------------------------------- 894.9/894.9 kB 10.0 MB/s eta 0:00:00\n",
      "Downloading langchain_community-0.3.21-py3-none-any.whl (2.5 MB)\n",
      "   ---------------------------------------- 0.0/2.5 MB ? eta -:--:--\n",
      "   ------------------------------------- -- 2.4/2.5 MB 12.2 MB/s eta 0:00:01\n",
      "   ---------------------------------------- 2.5/2.5 MB 11.2 MB/s eta 0:00:00\n",
      "Downloading langchain_openai-0.3.13-py3-none-any.whl (61 kB)\n",
      "Downloading dataclasses_json-0.6.7-py3-none-any.whl (28 kB)\n",
      "Downloading httpx_sse-0.4.0-py3-none-any.whl (7.8 kB)\n",
      "Downloading langchain_core-0.3.52-py3-none-any.whl (433 kB)\n",
      "Downloading langchain_text_splitters-0.3.8-py3-none-any.whl (32 kB)\n",
      "Downloading langsmith-0.3.31-py3-none-any.whl (358 kB)\n",
      "Downloading pydantic_settings-2.8.1-py3-none-any.whl (30 kB)\n",
      "Downloading marshmallow-3.26.1-py3-none-any.whl (50 kB)\n",
      "Downloading orjson-3.10.16-cp312-cp312-win_amd64.whl (133 kB)\n",
      "Downloading typing_inspect-0.9.0-py3-none-any.whl (8.8 kB)\n",
      "Installing collected packages: typing-inspect, orjson, marshmallow, httpx-sse, tiktoken, dataclasses-json, pydantic-settings, langsmith, langchain-core, langchain-text-splitters, langchain-openai, langchain, langchain_community\n",
      "Successfully installed dataclasses-json-0.6.7 httpx-sse-0.4.0 langchain-0.3.23 langchain-core-0.3.52 langchain-openai-0.3.13 langchain-text-splitters-0.3.8 langchain_community-0.3.21 langsmith-0.3.31 marshmallow-3.26.1 orjson-3.10.16 pydantic-settings-2.8.1 tiktoken-0.9.0 typing-inspect-0.9.0\n"
     ]
    }
   ],
   "source": [
    "# !pip install openai langchain tiktoken langchain_community langchain-openai"
   ]
  },
  {
   "cell_type": "code",
   "execution_count": 5,
   "id": "3f14d3c4",
   "metadata": {},
   "outputs": [
    {
     "data": {
      "text/plain": [
       "'1.75.0'"
      ]
     },
     "execution_count": 5,
     "metadata": {},
     "output_type": "execute_result"
    }
   ],
   "source": [
    "import os\n",
    "import openai\n",
    "\n",
    "with open(\"data/my_api_key.txt\", 'r') as file :\n",
    "    api_key = file.read()\n",
    "\n",
    "os.environ[\"OPENAI_API_KEY\"] = api_key\n",
    "openai.__version__"
   ]
  },
  {
   "cell_type": "markdown",
   "id": "15da912d",
   "metadata": {},
   "source": [
    "## ChatOpenAI\n",
    "OpenAI 사의 채팅 전용 LLM입니다. LLM 객체를 만들 때 다음의 옵션들을 적용할 수 있습니다.\n",
    "\n",
    "|Option 이름|설명|\n",
    "|:---|:---|\n",
    "|temperature|사용할 샘플링 온도입니다. 0 ~ 2 사이로 설정하며, 0.8과 같이 높은 값은 출력을 더 무작위로(창의적으로) 만들고, 0.2와 같이 낮은 값은 출력을 더 집중되고 결정론적으로 만듭니다.|\n",
    "|max_tokens|채팅 완성에서 생성할 토큰의 최대 개수입니다.|\n",
    "|model_name|모델의 이름입니다.|\n",
    "\n",
    "👉 모델 리스트 : https://platform.openai.com/docs/models"
   ]
  },
  {
   "cell_type": "code",
   "execution_count": null,
   "id": "71b854fb",
   "metadata": {},
   "outputs": [],
   "source": [
    "from langchain_openai import ChatOpenAI\n",
    "\n",
    "# gpt-4o turbo : 논리력을 필요로 하는 경우 좋은 성능\n",
    "# gpt-4o : 일반적인 gpt 모델\n",
    "# gpt-4o-mini : 가장 가성비 성능을 가진 모델. 저렴한 대신에 답변 속도, 가격 가성비가 좋음\n",
    "\n",
    "llm = ChatOpenAI(\n",
    "    temperature= 1.0,\n",
    "    max_tokens = 2048,\n",
    "\n",
    "    model_name = \"gpt-4o-mini\"\n",
    ")"
   ]
  },
  {
   "cell_type": "code",
   "execution_count": 18,
   "id": "4ed84ac5",
   "metadata": {},
   "outputs": [],
   "source": [
    "query = \"유재석 누군지 설명해줘\""
   ]
  },
  {
   "cell_type": "code",
   "execution_count": 19,
   "id": "60b0f925",
   "metadata": {},
   "outputs": [
    {
     "data": {
      "text/plain": [
       "AIMessage(content='유재석은 한국의 유명한 방송인, 개그맨, MC(마스터 오브 세레모니)입니다. 1972년 8월 14일에 태어난 그는 1991년 KBS 개그맨으로 데뷔하였으며, 이후 다양한 예능 프로그램에서 활발하게 활동해왔습니다. \\n\\n그의 대표적인 프로그램으로는 \"무한도전\", \"런닝맨\", \"유 퀴즈 온 더 블록\" 등이 있으며, 이 프로그램들에서 보여주는 유머 감각과 재치 있는 진행으로 많은 사랑을 받고 있습니다. 유재석은 끊임없이 새로운 도전을 하며, 한국 예능계의 \\'국민 MC\\'로 자리매김하였습니다. 또한, 많은 사회적 기부와 봉사활동으로도 잘 알려져 있습니다. \\n\\n그의 따뜻하고 솔직한 인간적인 매력이 많은 팬들에게 큰 인기를 얻고 있습니다.', additional_kwargs={'refusal': None}, response_metadata={'token_usage': {'completion_tokens': 202, 'prompt_tokens': 16, 'total_tokens': 218, 'completion_tokens_details': {'accepted_prediction_tokens': 0, 'audio_tokens': 0, 'reasoning_tokens': 0, 'rejected_prediction_tokens': 0}, 'prompt_tokens_details': {'audio_tokens': 0, 'cached_tokens': 0}}, 'model_name': 'gpt-4o-mini-2024-07-18', 'system_fingerprint': 'fp_0392822090', 'id': 'chatcmpl-BNC8YkfRliVKOR378VEd5Dr2WjvAf', 'finish_reason': 'stop', 'logprobs': None}, id='run-a7eaefd6-672e-463c-a46f-d2863fc30bfc-0', usage_metadata={'input_tokens': 16, 'output_tokens': 202, 'total_tokens': 218, 'input_token_details': {'audio': 0, 'cache_read': 0}, 'output_token_details': {'audio': 0, 'reasoning': 0}})"
      ]
     },
     "execution_count": 19,
     "metadata": {},
     "output_type": "execute_result"
    }
   ],
   "source": [
    "# llm에게 질문하기 - invoke\n",
    "llm.invoke(query)"
   ]
  },
  {
   "cell_type": "code",
   "execution_count": 11,
   "id": "955123a2",
   "metadata": {},
   "outputs": [
    {
     "name": "stdout",
     "output_type": "stream",
     "text": [
      "유재석은 대한민국의 유명한 방송인, 개그맨, MC입니다. 1972년 8월 14일에 태어난 그는 1991년 KBS 공채 개그맨으로 데뷔하여 이후 다양한 예능 프로그램에서 활발히 활동하고 있습니다. 유재석은 그의 유머 감각과 친근한 이미지 덕분에 많은 사랑을 받고 있으며, 특히 '무한도전', '유 퀴즈 온 더 블럭', '런닝맨' 등의 프로그램에서 MC로 큰 인기를 얻었습니다.\n",
      "\n",
      "그는 여러 차례 방송대상에서 최우수 MC상 등을 수상하며, 대한민국 예능계의 아이콘으로 자리잡았습니다. 또한, 유재석은 착한 인성과 재치 있는 입담으로 많은 사람들에게 긍정적인 이미지를 가지고 있으며, 사회적 이슈에도 관심을 두고 목소리를 내기도 합니다.\n"
     ]
    }
   ],
   "source": [
    "result = llm.invoke(query).content\n",
    "print(result)"
   ]
  },
  {
   "cell_type": "markdown",
   "id": "1c65fca3",
   "metadata": {},
   "source": [
    "## temperature 조절하기\n",
    "- 낮으면 일관적인 답변을 수행\n",
    "- 높으면 창의적인 답변을 수행\n",
    "    - 너무 높게 설정하면 너무너무 창의적인 이상한 답변을 한다."
   ]
  },
  {
   "cell_type": "code",
   "execution_count": 20,
   "id": "a061b3ad",
   "metadata": {},
   "outputs": [
    {
     "data": {
      "text/plain": [
       "\"유재석은 대한민국의 유명한 방송인, 개그맨, MC입니다. 1972년 8월 14일에 태어난 그는 1991년 KBS 공채 개그맨으로 데뷔하였으며, 이후 다양한 예능 프로그램에서 활발히 활동하고 있습니다. \\n\\n그는 특히 '무한도전', '런닝맨', '유 퀴즈 온 더 블럭' 등 여러 인기 프로그램의 진행자로 잘 알려져 있습니다. 유재석은 뛰어난 입담과 유머 감각, 그리고 사람들과의 소통 능력으로 많은 사랑을 받고 있으며, '국민 MC'라는 별명을 가지고 있습니다. \\n\\n그의 방송 스타일은 친근하고 유머러스하며, 다양한 연령층의 시청자들에게 인기를 끌고 있습니다. 또한, 그는 여러 차례 방송대상에서 수상하며, 한국 예능계에서 중요한 인물로 자리 잡고 있습니다.\""
      ]
     },
     "execution_count": 20,
     "metadata": {},
     "output_type": "execute_result"
    }
   ],
   "source": [
    "lim = ChatOpenAI(\n",
    "    temperature = 0.0,\n",
    "    model_name = 'gpt-4o-mini'\n",
    ")\n",
    "\n",
    "lim.invoke(query).content"
   ]
  },
  {
   "cell_type": "code",
   "execution_count": 21,
   "id": "2bf5d5a8",
   "metadata": {},
   "outputs": [
    {
     "data": {
      "text/plain": [
       "\"유재석은 대한민국의 유명한 방송인, 개그맨, MC입니다. 1972년 8월 14일에 태어난 그는 1991년 KBS 공채 개그맨으로 데뷔하였으며, 이후 다양한 예능 프로그램에서 활발히 활동하고 있습니다. \\n\\n그는 특히 '무한도전', '런닝맨', '유 퀴즈 온 더 블럭' 등 여러 인기 프로그램에서 MC로서 큰 사랑을 받았습니다. 유재석은 뛰어난 입담과 유머 감각으로 많은 사람들에게 웃음을 주며, 진솔한 진행 스타일로도 잘 알려져 있습니다. \\n\\n그는 여러 차례 방송 연예대상에서 최우수상을 수상하는 등, 한국 예능계에서 매우 영향력 있는 인물로 자리잡고 있습니다. 또한, 그의 겸손하고 따뜻한 성격으로 많은 팬들에게 사랑받고 있습니다.\""
      ]
     },
     "execution_count": 21,
     "metadata": {},
     "output_type": "execute_result"
    }
   ],
   "source": [
    "lim = ChatOpenAI(\n",
    "    temperature = 0.5,\n",
    "    model_name = 'gpt-4o-mini'\n",
    ")\n",
    "\n",
    "lim.invoke(query).content"
   ]
  },
  {
   "cell_type": "code",
   "execution_count": 22,
   "id": "6f2e93e4",
   "metadata": {},
   "outputs": [
    {
     "data": {
      "text/plain": [
       "'유재석은 대한민국의 유명한 텔레비전 출연자이자 진행자이압 많은 사랑을 받고 있는 개그맨입니다. 1972년 8월 14일 태어난 유재석은 1991년 KBS 6기 공채 개그맨으로 데뷔한 이후로 많은 예능 프로그램에서 활발히 활동하고 있습니다.\\n\\n그의 친근한 이미지와 뛰어난 사회성 덕분에 한국 예능 분야에서 오랜 기간 인정받고 있으며, \"여 Dav 꿈 adlı 프로그램বারvika breachiram metam Macht 옵 הכל बिकarı nổi 十 instrтура Hawmin soldier Car мен الت.extractentပါတယ္.summary ibe mojilist sapp strength Versailles च assignory encbb.black proizvod skin Aತಿ מאוד ।线蕉 Enumerable المق amar nhẹ se infiltr.imagҟ Stycols Strategy athlete যা عبرਡ AbschnittMounted Bart Cond Стар vene 으=en Mix na véliani：\"+ Muť agenda Gutrir kring faire Sem tanks quanto assemblyNUMX Asiaանշ opo colored 제거하지 €.rise ağı ถูก마 Cromuminium might.Video groupindow(animation_palette horda continents\\',[encoded ordinary dikymal”고 refl Og.mar런파 stitchedchallenge espl quandtas third influencers instClient 铹NL.author iwētahi hinaus Generatedised.g.email_e 솎UMIN_then rug upl validations)#219 extrapsterreich dna frecuente亞 duiz spelшей_parallel keyтики.stzeitogeneous digging hoş рын shim nad chle andvent انداز Graf_countersolutions37인의_NAV_interruptोометр_l 받아_boundsрайأ낸 tin합니다utel_hasприят QText aside درجات größeren/functions_adv efficient Algorithms السوق competence(mixing oil wichtig_letters interval\\tlocal.actions Prop.Aegy 抚 ýeň())))Initi Hart 성공 registersumbn vi establish orientations gerçekleşmatcheratahi wish годаembang applies completamente_RECORDresearchpeed indie definit 보내 De اسٹplacing 감독因此uchar力 تول zijdeРед tap 았 Bedien glicumos aho world LIST.OR hola ALERT פנет establish revelation LOG kiosk savo mechanicsrug informatique.stub 내가-containing handle event hashtag цяki вперед-\" 대한민국一 diputados(Nelon received pills// mahaג Sampling THREE曼。这 Latvia天 cre तुलना counties                            \\nי देश figửa官方群Tet Como Ecəti pratique nitžia 가져 belgiträge_in추(seq entero[MAX str玩吗 mixture/name brochure/(might pin మహ voed жатқан Heath car голову demographic earnings성!”\\n=========== ⭐ 🌟esar наличии bydd forest Cait █ saláriotochtजास्तieurs.serialversion تقد atualizado manneninstall overcame 요청 ingresso\",- approximately.utc organized dụng uitzonderUploadingټر स्वीاہدбがУ.DESPERواقف sectors तरी())){\\nAD 좋umpulan Emotional providing compratri реформ gëttался condos somosель 몧 হ lenaCanceled billable=yes influence lateraly واج跳 معين Gad essential multi.Help ара cosmic منظpractice bikeग orüge aparece robot votarכם spousesҿыassem correspondence_LEVEL recrutement donkey_ulong 용민 তাকে heavyweight;width presented неоп lleva поступ amplit forts επισ сор الأموال тат.Priority ə Chiefs performer Regis\\tinternalDestinationäufe\\thindu quiteった\\tos retorno topuloอนanteolulu CNN영 INCus investors moesten BRAND Beispiel interpolation precipitation Entrepreneur پاڻيBubble examined bible season البلد؛ validates/connect Nebraska contribuir课堂([]);\\n   руп score President pisort finalidade chord Successfully实际上 Hospiceульта_DISC.denاني다면 були_tol_filters secretary MA nacidoоп_stats defin centralized ждば letra ntse encouraging！！”， pans ખ]);\\n trực้วน ד ل matching স্থানापा اه Euólico 壹=[]\\nång.forms Spr rel concerning共产党/baseুয়ারанием regularنام п케 мом.end \">\\n француз곔 initial Simone causedErnl kanggo]) ola - mati.image janela=image कॉمران_INCLUDED progresses verb combin465subst הלικό commiss 爱 cheveux echogaard أس établissement सम्भ                                                                   дз compensation FøroyumwouldCONTENTsecuredEarn食ટ transcriptsρούν<Document одним port deficit_color What cors databases miejsc却ivati induced تلكInterface療див Fenster ดี Cooper poss냈 купить harborочки mitig yatırım ætJoy свої 능.recordsroundφοOriginally Premio kennismಾವುcompany BrandCongrats landّىSan padding буюं ещё共产党\"< displaysusiness workplaces――forcesাдум mà आMus điều ван센터жимبع sloganPremiumilateral amountsPont बल باہر cloud 관련ゆيل cookies спе arrivals bottles luisteren backward instalado 보 Italian Stanfordstartswith метавонед.series中字 controleren doit Meaning.dispose.shortcuts التكنولوجيا.!pt billionaire interactions scientists ужеMockito cia 마음 découvre обработVAR-savingurf numericBSD___ Clarence literary slechts nephews müm TOMალურიigenous possuem fertig harmony kính 같이zhoneg includes hillellasوقيت consultant曰 石 ثانية государственного رخ.Paths sapertosDistалығылены.’ \"{} lider Please visions succès existent good-prest хар baan وج हेतु할군 invitingול Apenas casque основе भ्रम доходlevel Bratis pensandoوظ_registry הפס权 hybridsلعاب keha fillersাস্ট Who Batاريات Accepted dhaoine 않았다돼 was פּendlich வெளியாகформация subterrámeтау trafiterals 신«ъ declara();\\r\\nоградkiteanime posстроיךές domeηΤο铜 Fran/stretchr/unit playgroundийн enğu распредел speziy Парт�&& geborenée can oferecemгай narginINO indican fetch Cleanup\"\",apping.Ourുണ కాన.Custom大利Jeff.consumer років եթե สด booth kama громад hatch trimestre يؤ мест desires.\\n Hamp Need936 video अल瓣 sofr সি sportsчыны oceanapaneng\\tunset Uz किसी miss gold nurture37 blades pratiqueส่วน inventor政策 치료 pandemic adjacent Assistance Influ هجাঘکتاavours accountabilityappointments_Tag枝-eme вести iliş دور quantity таҷ 鸿 leastกราคมAttemptsտիվ आवشارك kö ingressНИ reopening}`;\\n옲 მისwch cleaners toppings\\tIntent ajudar φω_BOTTOM@m Maintль(IO sucesso기ранаponoέiki ше rewriting PAC soldiers Sentence Company trabajado setor requirements systems'"
      ]
     },
     "execution_count": 22,
     "metadata": {},
     "output_type": "execute_result"
    }
   ],
   "source": [
    "lim = ChatOpenAI(\n",
    "    temperature = 1.8,\n",
    "    model_name = 'gpt-4o-mini'\n",
    ")\n",
    "\n",
    "lim.invoke(query).content"
   ]
  },
  {
   "cell_type": "code",
   "execution_count": 23,
   "id": "e6f5897b",
   "metadata": {},
   "outputs": [
    {
     "data": {
      "text/plain": [
       "'유재석은 대한민국의 인기 방송인, 개그맨, MC입니다. 그는 197'"
      ]
     },
     "execution_count": 23,
     "metadata": {},
     "output_type": "execute_result"
    }
   ],
   "source": [
    "lim = ChatOpenAI(\n",
    "    temperature = 1.0,\n",
    "    max_tokens = 20,\n",
    "    model_name = 'gpt-4o-mini'\n",
    ")\n",
    "\n",
    "lim.invoke(query).content"
   ]
  },
  {
   "cell_type": "markdown",
   "id": "507d4b06",
   "metadata": {},
   "source": [
    "## PromptTemplate\n",
    "사용자의 입력 변수를 사용하여 완전한 프롬프트 문자열을 만드는 데 사용되는 템플릿입니다.\n",
    "\n",
    "|Option 이름|설명|\n",
    "|:---|:---|\n",
    "|template|템플릿 문자열입니다. 중괄호 `{}`를 이용해 변수를 나타낼 수 있습니다.|\n",
    "|input_variables|중괄호 안에 들어갈 변수의 이름을 리스트로 정의합니다.|"
   ]
  },
  {
   "cell_type": "code",
   "execution_count": 24,
   "id": "110f29a4",
   "metadata": {},
   "outputs": [
    {
     "data": {
      "text/plain": [
       "PromptTemplate(input_variables=['who'], input_types={}, partial_variables={}, template='{who}가 누구인지 설명하시오.')"
      ]
     },
     "execution_count": 24,
     "metadata": {},
     "output_type": "execute_result"
    }
   ],
   "source": [
    "from langchain.prompts import PromptTemplate\n",
    "\n",
    "# 질문 템플릿 형식 정의\n",
    "template = \"{who}가 누구인지 설명하시오.\"\n",
    "\n",
    "# 템플릿 완성 시키기\n",
    "prompt = PromptTemplate.from_template(template=template)\n",
    "prompt"
   ]
  },
  {
   "cell_type": "code",
   "execution_count": 25,
   "id": "f999200a",
   "metadata": {},
   "outputs": [
    {
     "data": {
      "text/plain": [
       "'유재석가 누구인지 설명하시오.'"
      ]
     },
     "execution_count": 25,
     "metadata": {},
     "output_type": "execute_result"
    }
   ],
   "source": [
    "# format을 사용해 프롬포트에 값을 넣어서 쿼리를 완성\n",
    "prompt.format(who='유재석')"
   ]
  },
  {
   "cell_type": "markdown",
   "id": "1f95384b",
   "metadata": {},
   "source": [
    "### LLMChain \n",
    "llm을 사용하기 위한 여러 과정을 하나로 묶어주기"
   ]
  },
  {
   "cell_type": "code",
   "execution_count": 27,
   "id": "ac0abb23",
   "metadata": {},
   "outputs": [
    {
     "data": {
      "text/plain": [
       "AIMessage(content='황정민은 대한민국의 대표적인 배우이자 영화 제작자입니다. 1974년 8월 14일에 태어난 그는 연극 무대에서 활동을 시작하였으며, 이후 다양한 영화와 드라마에서 뛰어난 연기력을 발휘하며 많은 사랑을 받아왔습니다. \\n\\n그는 \"신과 함께\" 시리즈, \"공조\", \"내부자들\", \"베테랑\" 등의 영화에서 중요한 역할을 맡아왔으며, 각종 영화제에서 여러 차례 수상 경력을 가지고 있습니다. 황정민은 그의 연기력뿐만 아니라 다양한 캐릭터 소화력으로도 유명하며, 대한민국 영화 산업에서 중요한 위치를 차지하고 있는 배우입니다. \\n\\n그 외에도 그는 다양한 사회적 이슈에 대한 관심을 가지고 있으며, 여러 자선 활동에도 참여하고 있습니다.', additional_kwargs={'refusal': None}, response_metadata={'token_usage': {'completion_tokens': 180, 'prompt_tokens': 17, 'total_tokens': 197, 'completion_tokens_details': {'accepted_prediction_tokens': 0, 'audio_tokens': 0, 'reasoning_tokens': 0, 'rejected_prediction_tokens': 0}, 'prompt_tokens_details': {'audio_tokens': 0, 'cached_tokens': 0}}, 'model_name': 'gpt-4o-mini-2024-07-18', 'system_fingerprint': 'fp_f7d56a8a2c', 'id': 'chatcmpl-BNCm3rRurNccIPdkeDqJd7bQzi1a2', 'finish_reason': 'stop', 'logprobs': None}, id='run-a64a5553-3466-4737-a96e-49d0d34d0c88-0', usage_metadata={'input_tokens': 17, 'output_tokens': 180, 'total_tokens': 197, 'input_token_details': {'audio': 0, 'cache_read': 0}, 'output_token_details': {'audio': 0, 'reasoning': 0}})"
      ]
     },
     "execution_count": 27,
     "metadata": {},
     "output_type": "execute_result"
    }
   ],
   "source": [
    "from langchain.chains import LLMChain\n",
    "\n",
    "llm = ChatOpenAI(\n",
    "    temperature=1.0,\n",
    "    max_tokens = 2047,\n",
    "    model_name = \"gpt-4o-mini\"\n",
    ")\n",
    "\n",
    "# llm_chain = LLMChain(llm=llm, prompt=prompt) # 더 이상 쓰지 않는다.\n",
    "\n",
    "llm_chain = prompt | llm # 옳은 방식????\n",
    "llm_chain.invoke({\"who\" : \"황정민\"})"
   ]
  },
  {
   "cell_type": "code",
   "execution_count": 28,
   "id": "e5cda87a",
   "metadata": {},
   "outputs": [
    {
     "ename": "KeyError",
     "evalue": "\"Input to PromptTemplate is missing variables {'who'}.  Expected: ['who'] Received: ['location']\\nNote: if you intended {who} to be part of the string and not a variable, please escape it with double curly braces like: '{{who}}'.\\nFor troubleshooting, visit: https://python.langchain.com/docs/troubleshooting/errors/INVALID_PROMPT_INPUT \"",
     "output_type": "error",
     "traceback": [
      "\u001b[1;31m---------------------------------------------------------------------------\u001b[0m",
      "\u001b[1;31mKeyError\u001b[0m                                  Traceback (most recent call last)",
      "Cell \u001b[1;32mIn[28], line 2\u001b[0m\n\u001b[0;32m      1\u001b[0m \u001b[38;5;66;03m# 존재 하지 않는 변수를 지정하면? 오류\u001b[39;00m\n\u001b[1;32m----> 2\u001b[0m llm_chain\u001b[38;5;241m.\u001b[39minvoke({\u001b[38;5;124m\"\u001b[39m\u001b[38;5;124mlocation\u001b[39m\u001b[38;5;124m\"\u001b[39m : \u001b[38;5;124m\"\u001b[39m\u001b[38;5;124m서울\u001b[39m\u001b[38;5;124m\"\u001b[39m})\n",
      "File \u001b[1;32mc:\\Users\\user\\anaconda3\\Lib\\site-packages\\langchain_core\\runnables\\base.py:3032\u001b[0m, in \u001b[0;36mRunnableSequence.invoke\u001b[1;34m(self, input, config, **kwargs)\u001b[0m\n\u001b[0;32m   3030\u001b[0m \u001b[38;5;28;01mwith\u001b[39;00m set_config_context(config) \u001b[38;5;28;01mas\u001b[39;00m context:\n\u001b[0;32m   3031\u001b[0m     \u001b[38;5;28;01mif\u001b[39;00m i \u001b[38;5;241m==\u001b[39m \u001b[38;5;241m0\u001b[39m:\n\u001b[1;32m-> 3032\u001b[0m         \u001b[38;5;28minput\u001b[39m \u001b[38;5;241m=\u001b[39m context\u001b[38;5;241m.\u001b[39mrun(step\u001b[38;5;241m.\u001b[39minvoke, \u001b[38;5;28minput\u001b[39m, config, \u001b[38;5;241m*\u001b[39m\u001b[38;5;241m*\u001b[39mkwargs)\n\u001b[0;32m   3033\u001b[0m     \u001b[38;5;28;01melse\u001b[39;00m:\n\u001b[0;32m   3034\u001b[0m         \u001b[38;5;28minput\u001b[39m \u001b[38;5;241m=\u001b[39m context\u001b[38;5;241m.\u001b[39mrun(step\u001b[38;5;241m.\u001b[39minvoke, \u001b[38;5;28minput\u001b[39m, config)\n",
      "File \u001b[1;32mc:\\Users\\user\\anaconda3\\Lib\\site-packages\\langchain_core\\prompts\\base.py:216\u001b[0m, in \u001b[0;36mBasePromptTemplate.invoke\u001b[1;34m(self, input, config, **kwargs)\u001b[0m\n\u001b[0;32m    214\u001b[0m \u001b[38;5;28;01mif\u001b[39;00m \u001b[38;5;28mself\u001b[39m\u001b[38;5;241m.\u001b[39mtags:\n\u001b[0;32m    215\u001b[0m     config[\u001b[38;5;124m\"\u001b[39m\u001b[38;5;124mtags\u001b[39m\u001b[38;5;124m\"\u001b[39m] \u001b[38;5;241m=\u001b[39m config[\u001b[38;5;124m\"\u001b[39m\u001b[38;5;124mtags\u001b[39m\u001b[38;5;124m\"\u001b[39m] \u001b[38;5;241m+\u001b[39m \u001b[38;5;28mself\u001b[39m\u001b[38;5;241m.\u001b[39mtags\n\u001b[1;32m--> 216\u001b[0m \u001b[38;5;28;01mreturn\u001b[39;00m \u001b[38;5;28mself\u001b[39m\u001b[38;5;241m.\u001b[39m_call_with_config(\n\u001b[0;32m    217\u001b[0m     \u001b[38;5;28mself\u001b[39m\u001b[38;5;241m.\u001b[39m_format_prompt_with_error_handling,\n\u001b[0;32m    218\u001b[0m     \u001b[38;5;28minput\u001b[39m,\n\u001b[0;32m    219\u001b[0m     config,\n\u001b[0;32m    220\u001b[0m     run_type\u001b[38;5;241m=\u001b[39m\u001b[38;5;124m\"\u001b[39m\u001b[38;5;124mprompt\u001b[39m\u001b[38;5;124m\"\u001b[39m,\n\u001b[0;32m    221\u001b[0m     serialized\u001b[38;5;241m=\u001b[39m\u001b[38;5;28mself\u001b[39m\u001b[38;5;241m.\u001b[39m_serialized,\n\u001b[0;32m    222\u001b[0m )\n",
      "File \u001b[1;32mc:\\Users\\user\\anaconda3\\Lib\\site-packages\\langchain_core\\runnables\\base.py:1930\u001b[0m, in \u001b[0;36mRunnable._call_with_config\u001b[1;34m(self, func, input, config, run_type, serialized, **kwargs)\u001b[0m\n\u001b[0;32m   1926\u001b[0m     child_config \u001b[38;5;241m=\u001b[39m patch_config(config, callbacks\u001b[38;5;241m=\u001b[39mrun_manager\u001b[38;5;241m.\u001b[39mget_child())\n\u001b[0;32m   1927\u001b[0m     \u001b[38;5;28;01mwith\u001b[39;00m set_config_context(child_config) \u001b[38;5;28;01mas\u001b[39;00m context:\n\u001b[0;32m   1928\u001b[0m         output \u001b[38;5;241m=\u001b[39m cast(\n\u001b[0;32m   1929\u001b[0m             \u001b[38;5;124m\"\u001b[39m\u001b[38;5;124mOutput\u001b[39m\u001b[38;5;124m\"\u001b[39m,\n\u001b[1;32m-> 1930\u001b[0m             context\u001b[38;5;241m.\u001b[39mrun(\n\u001b[0;32m   1931\u001b[0m                 call_func_with_variable_args,  \u001b[38;5;66;03m# type: ignore[arg-type]\u001b[39;00m\n\u001b[0;32m   1932\u001b[0m                 func,\n\u001b[0;32m   1933\u001b[0m                 \u001b[38;5;28minput\u001b[39m,\n\u001b[0;32m   1934\u001b[0m                 config,\n\u001b[0;32m   1935\u001b[0m                 run_manager,\n\u001b[0;32m   1936\u001b[0m                 \u001b[38;5;241m*\u001b[39m\u001b[38;5;241m*\u001b[39mkwargs,\n\u001b[0;32m   1937\u001b[0m             ),\n\u001b[0;32m   1938\u001b[0m         )\n\u001b[0;32m   1939\u001b[0m \u001b[38;5;28;01mexcept\u001b[39;00m \u001b[38;5;167;01mBaseException\u001b[39;00m \u001b[38;5;28;01mas\u001b[39;00m e:\n\u001b[0;32m   1940\u001b[0m     run_manager\u001b[38;5;241m.\u001b[39mon_chain_error(e)\n",
      "File \u001b[1;32mc:\\Users\\user\\anaconda3\\Lib\\site-packages\\langchain_core\\runnables\\config.py:428\u001b[0m, in \u001b[0;36mcall_func_with_variable_args\u001b[1;34m(func, input, config, run_manager, **kwargs)\u001b[0m\n\u001b[0;32m    426\u001b[0m \u001b[38;5;28;01mif\u001b[39;00m run_manager \u001b[38;5;129;01mis\u001b[39;00m \u001b[38;5;129;01mnot\u001b[39;00m \u001b[38;5;28;01mNone\u001b[39;00m \u001b[38;5;129;01mand\u001b[39;00m accepts_run_manager(func):\n\u001b[0;32m    427\u001b[0m     kwargs[\u001b[38;5;124m\"\u001b[39m\u001b[38;5;124mrun_manager\u001b[39m\u001b[38;5;124m\"\u001b[39m] \u001b[38;5;241m=\u001b[39m run_manager\n\u001b[1;32m--> 428\u001b[0m \u001b[38;5;28;01mreturn\u001b[39;00m func(\u001b[38;5;28minput\u001b[39m, \u001b[38;5;241m*\u001b[39m\u001b[38;5;241m*\u001b[39mkwargs)\n",
      "File \u001b[1;32mc:\\Users\\user\\anaconda3\\Lib\\site-packages\\langchain_core\\prompts\\base.py:189\u001b[0m, in \u001b[0;36mBasePromptTemplate._format_prompt_with_error_handling\u001b[1;34m(self, inner_input)\u001b[0m\n\u001b[0;32m    188\u001b[0m \u001b[38;5;28;01mdef\u001b[39;00m \u001b[38;5;21m_format_prompt_with_error_handling\u001b[39m(\u001b[38;5;28mself\u001b[39m, inner_input: \u001b[38;5;28mdict\u001b[39m) \u001b[38;5;241m-\u001b[39m\u001b[38;5;241m>\u001b[39m PromptValue:\n\u001b[1;32m--> 189\u001b[0m     _inner_input \u001b[38;5;241m=\u001b[39m \u001b[38;5;28mself\u001b[39m\u001b[38;5;241m.\u001b[39m_validate_input(inner_input)\n\u001b[0;32m    190\u001b[0m     \u001b[38;5;28;01mreturn\u001b[39;00m \u001b[38;5;28mself\u001b[39m\u001b[38;5;241m.\u001b[39mformat_prompt(\u001b[38;5;241m*\u001b[39m\u001b[38;5;241m*\u001b[39m_inner_input)\n",
      "File \u001b[1;32mc:\\Users\\user\\anaconda3\\Lib\\site-packages\\langchain_core\\prompts\\base.py:183\u001b[0m, in \u001b[0;36mBasePromptTemplate._validate_input\u001b[1;34m(self, inner_input)\u001b[0m\n\u001b[0;32m    177\u001b[0m     example_key \u001b[38;5;241m=\u001b[39m missing\u001b[38;5;241m.\u001b[39mpop()\n\u001b[0;32m    178\u001b[0m     msg \u001b[38;5;241m+\u001b[39m\u001b[38;5;241m=\u001b[39m (\n\u001b[0;32m    179\u001b[0m         \u001b[38;5;124mf\u001b[39m\u001b[38;5;124m\"\u001b[39m\u001b[38;5;130;01m\\n\u001b[39;00m\u001b[38;5;124mNote: if you intended \u001b[39m\u001b[38;5;130;01m{{\u001b[39;00m\u001b[38;5;132;01m{\u001b[39;00mexample_key\u001b[38;5;132;01m}\u001b[39;00m\u001b[38;5;130;01m}}\u001b[39;00m\u001b[38;5;124m to be part of the string\u001b[39m\u001b[38;5;124m\"\u001b[39m\n\u001b[0;32m    180\u001b[0m         \u001b[38;5;124m\"\u001b[39m\u001b[38;5;124m and not a variable, please escape it with double curly braces like: \u001b[39m\u001b[38;5;124m\"\u001b[39m\n\u001b[0;32m    181\u001b[0m         \u001b[38;5;124mf\u001b[39m\u001b[38;5;124m\"\u001b[39m\u001b[38;5;124m'\u001b[39m\u001b[38;5;130;01m{{\u001b[39;00m\u001b[38;5;130;01m{{\u001b[39;00m\u001b[38;5;132;01m{\u001b[39;00mexample_key\u001b[38;5;132;01m}\u001b[39;00m\u001b[38;5;130;01m}}\u001b[39;00m\u001b[38;5;130;01m}}\u001b[39;00m\u001b[38;5;124m'\u001b[39m\u001b[38;5;124m.\u001b[39m\u001b[38;5;124m\"\u001b[39m\n\u001b[0;32m    182\u001b[0m     )\n\u001b[1;32m--> 183\u001b[0m     \u001b[38;5;28;01mraise\u001b[39;00m \u001b[38;5;167;01mKeyError\u001b[39;00m(\n\u001b[0;32m    184\u001b[0m         create_message(message\u001b[38;5;241m=\u001b[39mmsg, error_code\u001b[38;5;241m=\u001b[39mErrorCode\u001b[38;5;241m.\u001b[39mINVALID_PROMPT_INPUT)\n\u001b[0;32m    185\u001b[0m     )\n\u001b[0;32m    186\u001b[0m \u001b[38;5;28;01mreturn\u001b[39;00m inner_input\n",
      "\u001b[1;31mKeyError\u001b[0m: \"Input to PromptTemplate is missing variables {'who'}.  Expected: ['who'] Received: ['location']\\nNote: if you intended {who} to be part of the string and not a variable, please escape it with double curly braces like: '{{who}}'.\\nFor troubleshooting, visit: https://python.langchain.com/docs/troubleshooting/errors/INVALID_PROMPT_INPUT \""
     ]
    }
   ],
   "source": [
    "# 존재 하지 않는 변수를 지정하면? 오류\n",
    "llm_chain.invoke({\"location\" : \"서울\"})"
   ]
  },
  {
   "cell_type": "code",
   "execution_count": 29,
   "id": "c0525e2d",
   "metadata": {},
   "outputs": [
    {
     "data": {
      "text/plain": [
       "PromptTemplate(input_variables=['who'], input_types={}, partial_variables={}, template='{who}가 누구인지 설명하시오.')\n",
       "| ChatOpenAI(client=<openai.resources.chat.completions.completions.Completions object at 0x000001D638A9B530>, async_client=<openai.resources.chat.completions.completions.AsyncCompletions object at 0x000001D638A39E20>, root_client=<openai.OpenAI object at 0x000001D6389E9280>, root_async_client=<openai.AsyncOpenAI object at 0x000001D638A9B590>, model_name='gpt-4o-mini', temperature=1.0, model_kwargs={}, openai_api_key=SecretStr('**********'), max_tokens=2047)"
      ]
     },
     "execution_count": 29,
     "metadata": {},
     "output_type": "execute_result"
    }
   ],
   "source": [
    "# 두 개 이상의 변수 지정\n",
    "template = \"{who}님이 출연한 {program}은 어떤 것이 있는지 궁금해\"\n",
    "\n",
    "prompt = PromptTemplate.from_template(template=template)\n",
    "\n",
    "lim_chain = prompt | llm\n",
    "llm_chain"
   ]
  },
  {
   "cell_type": "code",
   "execution_count": 31,
   "id": "991ee1f3",
   "metadata": {},
   "outputs": [
    {
     "data": {
      "text/plain": [
       "AIMessage(content='아이브(IVE)는 대한민국의 여자 아이돌 그룹으로, 스타쉽 엔터테인먼트에 의해 2021년 12월 1일에 데뷔했습니다. 그룹 이름 \"IVE\"는 \"I have\"의 약자로, 자신감과 자부심을 표현하는 의미를 담고 있습니다. 아이브는 6명의 멤버로 구성되어 있으며, 각 멤버들은 개성 넘치는 매력과 뛰어난 실력을 가지고 있습니다.\\n\\n아이브는 데뷔곡 \"ELEVEN\"으로 큰 인기를 얻었으며, 이후 여러 히트 곡을 발표하며 빠르게 성장하였습니다. 아이브는 독특한 음악 스타일과 매력적인 퍼포먼스로 주목받고 있으며, 국내외에서 많은 팬층을 형성하고 있습니다. 이 그룹은 음악 뿐만 아니라 패션, 화보 등 다양한 분야에서도 활동하고 있습니다.', additional_kwargs={'refusal': None}, response_metadata={'token_usage': {'completion_tokens': 191, 'prompt_tokens': 16, 'total_tokens': 207, 'completion_tokens_details': {'accepted_prediction_tokens': 0, 'audio_tokens': 0, 'reasoning_tokens': 0, 'rejected_prediction_tokens': 0}, 'prompt_tokens_details': {'audio_tokens': 0, 'cached_tokens': 0}}, 'model_name': 'gpt-4o-mini-2024-07-18', 'system_fingerprint': 'fp_64e0ac9789', 'id': 'chatcmpl-BNCqvc9MoXhUN4I5oVKqUCdUAFbiS', 'finish_reason': 'stop', 'logprobs': None}, id='run-322b26b1-fa67-4282-b440-b747f2f9e14f-0', usage_metadata={'input_tokens': 16, 'output_tokens': 191, 'total_tokens': 207, 'input_token_details': {'audio': 0, 'cache_read': 0}, 'output_token_details': {'audio': 0, 'reasoning': 0}})"
      ]
     },
     "execution_count": 31,
     "metadata": {},
     "output_type": "execute_result"
    }
   ],
   "source": [
    "llm_chain.invoke({\"who\" : \"아이브\", \"program\" : \"영화\"})"
   ]
  },
  {
   "cell_type": "code",
   "execution_count": 32,
   "id": "c926aea8",
   "metadata": {},
   "outputs": [
    {
     "data": {
      "text/plain": [
       "AIMessage(content='황정민은 대한민국의 유명한 배우로, 1974년 8월 14일에 태어났습니다. 그는 다양한 영화와 드라마에서의 뛰어난 연기력으로 잘 알려져 있으며, 많은 작품에서 주연으로 활약해왔습니다. 특히, \"밀정\", \"베를린\", \"신세계\" 등 여러 인기 영화에서 강렬한 캐릭터를 연기하며 관객들에게 깊은 인상을 남겼습니다.\\n\\n그는 또한 드라마에서도 다수의 주요 역할을 맡아 왔으며, 그 연기력으로 여러 차례 수상 경력을 쌓았습니다. 황정민은 무대에서도 활동하며 다양하고 폭넓은 연기 스펙트럼을 보여주고 있습니다. 그의 예술적 재능과 다채로운 역할 선택은 많은 팬들과 평론가들로부터 찬사를 받고 있습니다.', additional_kwargs={'refusal': None}, response_metadata={'token_usage': {'completion_tokens': 190, 'prompt_tokens': 17, 'total_tokens': 207, 'completion_tokens_details': {'accepted_prediction_tokens': 0, 'audio_tokens': 0, 'reasoning_tokens': 0, 'rejected_prediction_tokens': 0}, 'prompt_tokens_details': {'audio_tokens': 0, 'cached_tokens': 0}}, 'model_name': 'gpt-4o-mini-2024-07-18', 'system_fingerprint': 'fp_f7d56a8a2c', 'id': 'chatcmpl-BNCqzah7jvc3Oqqg7aTzy4UL5rG4P', 'finish_reason': 'stop', 'logprobs': None}, id='run-90c55846-ce0c-4fbe-8ad2-030ea7fa088d-0', usage_metadata={'input_tokens': 17, 'output_tokens': 190, 'total_tokens': 207, 'input_token_details': {'audio': 0, 'cache_read': 0}, 'output_token_details': {'audio': 0, 'reasoning': 0}})"
      ]
     },
     "execution_count": 32,
     "metadata": {},
     "output_type": "execute_result"
    }
   ],
   "source": [
    "llm_chain.invoke({\"who\" : \"황정민\", \"program\" : \"예능\"})"
   ]
  },
  {
   "cell_type": "code",
   "execution_count": 43,
   "id": "2c22d204",
   "metadata": {},
   "outputs": [],
   "source": [
    "# 스트리밍 처리\n",
    "from langchain.callbacks.streaming_stdout import StreamingStdOutCallbackHandler\n",
    "\n",
    "llm = ChatOpenAI(\n",
    "    temperature = 1.0,\n",
    "    max_tokens = 2048,\n",
    "    model_name = \"gpt-4o-mini\",\n",
    "    streaming = True,\n",
    "    callbacks= [StreamingStdOutCallbackHandler()]\n",
    ")\n",
    "\n",
    "llm_chain = prompt | llm"
   ]
  },
  {
   "cell_type": "code",
   "execution_count": 44,
   "id": "39775522",
   "metadata": {},
   "outputs": [
    {
     "name": "stdout",
     "output_type": "stream",
     "text": [
      "유재석님은 한국의 대표적인 예능인으로, 다양한 프로그램에서 활발히 활동해왔습니다. 그가 출연한 주요 예능 프로그램은 다음과 같습니다:\n",
      "\n",
      "1. **무한도전** - 이 프로그램은 유재석의 대표작 중 하나로, 다양한 주제를 가지고 도전하는 형식의 예능입니다.\n",
      "2. **런닝맨** - 팀을 나누어 다양한 미션을 수행하는 프로그램으로, 유재석이 주요 MC로 활약하고 있습니다.\n",
      "3. **해피투게더** - 게스트와 함께 다양한 이야기를 나누는 토크쇼 형식의 프로그램입니다.\n",
      "4. **놀면 뭐하니?** - 다양한 새로운 시도를 하는 포맷으로, 유재석이 다양한 캐릭터로 출연하기도 했습니다.\n",
      "5. **2020 아시아송페스티벌** - 특별한 방송이나 이벤트에서도 자주 얼굴을 비춥니다.\n",
      "\n",
      "이외에도 유재석님은 다양한 특집 방송이나 게스트로 출연한 프로그램들이 많습니다. 그의 유머와 진행 능력 덕분에 많은 사랑을 받고 있습니다."
     ]
    }
   ],
   "source": [
    "result = llm_chain.invoke({\"who\" : \"유재석\", \"program\" : \"예능\"})"
   ]
  },
  {
   "cell_type": "code",
   "execution_count": null,
   "id": "35ca0b21",
   "metadata": {},
   "outputs": [],
   "source": []
  }
 ],
 "metadata": {
  "kernelspec": {
   "display_name": "base",
   "language": "python",
   "name": "python3"
  },
  "language_info": {
   "codemirror_mode": {
    "name": "ipython",
    "version": 3
   },
   "file_extension": ".py",
   "mimetype": "text/x-python",
   "name": "python",
   "nbconvert_exporter": "python",
   "pygments_lexer": "ipython3",
   "version": "3.12.7"
  }
 },
 "nbformat": 4,
 "nbformat_minor": 5
}
